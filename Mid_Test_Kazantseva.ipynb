{
  "nbformat": 4,
  "nbformat_minor": 0,
  "metadata": {
    "colab": {
      "name": "Mid_Test_Kazantseva.ipynb",
      "provenance": [],
      "authorship_tag": "ABX9TyPE72hTmaKuB/W+ygSMhqUo",
      "include_colab_link": true
    },
    "kernelspec": {
      "name": "python3",
      "display_name": "Python 3"
    },
    "language_info": {
      "name": "python"
    }
  },
  "cells": [
    {
      "cell_type": "markdown",
      "metadata": {
        "id": "view-in-github",
        "colab_type": "text"
      },
      "source": [
        "<a href=\"https://colab.research.google.com/github/katerinakazantseva/scientific_python/blob/master/Mid_Test_Kazantseva.ipynb\" target=\"_parent\"><img src=\"https://colab.research.google.com/assets/colab-badge.svg\" alt=\"Open In Colab\"/></a>"
      ]
    },
    {
      "cell_type": "markdown",
      "metadata": {
        "id": "mlTBG6cuud5S"
      },
      "source": [
        " **Task 1 Crossword**\\\n",
        "   D O N \\\n",
        "   T P A \\\n",
        "   N I C \\"
      ]
    },
    {
      "cell_type": "markdown",
      "metadata": {
        "id": "4Nrpyrjqu3bW"
      },
      "source": [
        "**Task 2**\n",
        "\n",
        "You have some dataset describing concentrations of five algae metabolites. For each algae there is\n",
        "a species name, its genus and its group.\\\n",
        "-Using pandas library find the average concentration of each of the metabolite in each aglae\n",
        "genus.\\\n",
        "-Visualize the result using seaborn library."
      ]
    },
    {
      "cell_type": "code",
      "metadata": {
        "colab": {
          "base_uri": "https://localhost:8080/"
        },
        "id": "2WLkb85juonX",
        "outputId": "e08ed071-1503-43c7-8f43-69afb22102f8"
      },
      "source": [
        "import pandas as pd\n",
        "df = pd.read_csv(\"/content/data_for_task2.csv\")\n",
        "df=df.groupby('genus',as_index=False).mean()\n",
        "print(df)\n",
        "\n"
      ],
      "execution_count": 32,
      "outputs": [
        {
          "output_type": "stream",
          "text": [
            "         genus   sucrose    alanin   citrate   glucose  oleic_acid\n",
            "0  Ascophyllum  6.825467  0.875429  5.253527  3.414961    2.432526\n",
            "1   Cladophora  4.008792  3.997055  5.288311  2.800276    2.263472\n",
            "2        Fucus  4.355112  3.566411  4.214878  2.814803    3.367647\n",
            "3     Palmaria  0.704580  3.176440  5.573905  3.242090    2.245538\n",
            "4   Saccharina  4.183596  3.524207  3.346710  4.980594    4.487252\n"
          ],
          "name": "stdout"
        }
      ]
    },
    {
      "cell_type": "code",
      "metadata": {
        "colab": {
          "base_uri": "https://localhost:8080/",
          "height": 787
        },
        "id": "Nlb4AxZa5Aa8",
        "outputId": "42777097-dc24-4f9d-cd9e-771129fe0d06"
      },
      "source": [
        "import seaborn as sns\n",
        "sns.set(rc={'figure.figsize':(12,11)})\n",
        "\n",
        "\n",
        "formatted_df = pd.melt(\n",
        "    frame = df,\n",
        "    id_vars = \"genus\")\n",
        "\n",
        "g = sns.barplot(x=\"variable\",\n",
        "                y=\"value\", \n",
        "                hue=\"genus\", \n",
        "                data = formatted_df)\n",
        "\n",
        "# with readable x labels\n",
        "g.set_xticklabels(g.get_xticklabels(),\n",
        "                  rotation=45)"
      ],
      "execution_count": 34,
      "outputs": [
        {
          "output_type": "execute_result",
          "data": {
            "text/plain": [
              "[Text(0, 0, 'sucrose'),\n",
              " Text(0, 0, 'alanin'),\n",
              " Text(0, 0, 'citrate'),\n",
              " Text(0, 0, 'glucose'),\n",
              " Text(0, 0, 'oleic_acid')]"
            ]
          },
          "metadata": {
            "tags": []
          },
          "execution_count": 34
        },
        {
          "output_type": "display_data",
          "data": {
            "image/png": "[encoded data removed]",
            "text/plain": [
              "<Figure size 864x792 with 1 Axes>"
            ]
          },
          "metadata": {
            "tags": []
          }
        }
      ]
    },
    {
      "cell_type": "markdown",
      "metadata": {
        "id": "sg8XvO6hXScC"
      },
      "source": [
        "**Task 3**"
      ]
    },
    {
      "cell_type": "code",
      "metadata": {
        "colab": {
          "base_uri": "https://localhost:8080/"
        },
        "id": "tR9PBFHJ9Z9_",
        "outputId": "13293d9a-23cf-455a-cf87-231bc4aa8d58"
      },
      "source": [
        "\n",
        "mm=map(lambda x: x%3 == 0, [1,2,3,4,6])\n",
        "\n",
        "\n",
        "while True:\n",
        "   try:\n",
        "       print(next(mm))\n",
        "   except StopIteration:\n",
        "        break\n",
        "\n",
        "\n",
        "\n"
      ],
      "execution_count": 67,
      "outputs": [
        {
          "output_type": "stream",
          "text": [
            "False\n",
            "False\n",
            "True\n",
            "False\n",
            "True\n"
          ],
          "name": "stdout"
        }
      ]
    },
    {
      "cell_type": "markdown",
      "metadata": {
        "id": "2np4WR3gG0yE"
      },
      "source": [
        "**Answer:** The iterators are more prefferable cause it saved resources as we do not need to store list in the memory - iterator calculate values on the fly"
      ]
    },
    {
      "cell_type": "markdown",
      "metadata": {
        "id": "43bDQSA2XZbh"
      },
      "source": [
        "**Task 4**"
      ]
    },
    {
      "cell_type": "code",
      "metadata": {
        "colab": {
          "base_uri": "https://localhost:8080/"
        },
        "id": "UGKYldbCHPnf",
        "outputId": "8cebf98b-66fa-40ed-bc35-e0a9ef277da4"
      },
      "source": [
        "import requests\n",
        "\n",
        "nums=[22, 43, 264, 1990]\n",
        "URL = 'http://numbersapi.com/'\n",
        "\n",
        "\n",
        "for i in nums:\n",
        "  print(i)\n",
        "  print ('MATH: '+requests.get(URL+str(i) + '/math').text)\n",
        "  print ('HIST: '+requests.get(URL+str(i) + '/date').text)\n",
        "\n",
        "\n"
      ],
      "execution_count": 119,
      "outputs": [
        {
          "output_type": "stream",
          "text": [
            "22\n",
            "MATH: 22 is an even composite number, its proper divisors being 1, 2 and 11.\n",
            "HIST: January 22nd is the day in 1889 that Columbia Phonograph is formed in Washington, D.C.\n",
            "43\n",
            "MATH: 43 is the number of sided 7-iamonds.\n",
            "HIST: February 12th is the day in 1816 that the Teatro di San Carlo, the oldest working opera house in Europe, is destroyed by fire.\n",
            "264\n",
            "MATH: 264 is the largest known number whose square is undulating.\n",
            "HIST: September 20th is the day in 1984 that a suicide bomber in a car attacks the U.S. embassy in Beirut, Lebanon, killing twenty-two people.\n",
            "1990\n",
            "MATH: 1990 is a stella octangula number.\n",
            "HIST: June 12th is the day in 1987 that the Central African Republic's former Emperor Jean-Bédel Bokassa is sentenced to death for crimes he had committed during his 13-year rule.\n"
          ],
          "name": "stdout"
        }
      ]
    },
    {
      "cell_type": "markdown",
      "metadata": {
        "id": "5WfCRHJmVgIk"
      },
      "source": [
        "**Task 5**\\\n",
        "Knock out gene b3236 and write down what has changed in NADH production in cytosol."
      ]
    },
    {
      "cell_type": "code",
      "metadata": {
        "colab": {
          "base_uri": "https://localhost:8080/",
          "height": 795
        },
        "id": "OURpBAnCLW5D",
        "outputId": "255dd5c9-1985-40d3-ff53-7140b7d47465"
      },
      "source": [
        "#!pip install cobra\n",
        "import cobra\n",
        "\n",
        "from cobra import test\n",
        "model = test.create_test_model(\"textbook\") # Name: e_coli_core\n",
        "model.metabolites.nadh_c.summary(fva=0.95)\n"
      ],
      "execution_count": 120,
      "outputs": [
        {
          "output_type": "execute_result",
          "data": {
            "text/html": [
              "<h3>nadh_c</h3><p>C21H27N7O14P2</p><h4>Producing Reactions</h4><table border=\"1\" class=\"dataframe\">\n",
              "  <thead>\n",
              "    <tr style=\"text-align: right;\">\n",
              "      <th>Percent</th>\n",
              "      <th>Flux</th>\n",
              "      <th>Range</th>\n",
              "      <th>Reaction</th>\n",
              "      <th>Definition</th>\n",
              "    </tr>\n",
              "  </thead>\n",
              "  <tbody>\n",
              "    <tr>\n",
              "      <td>0.00%</td>\n",
              "      <td>0</td>\n",
              "      <td>[-1.271;  0]</td>\n",
              "      <td>ACALD</td>\n",
              "      <td>acald_c + coa_c + nad_c &lt;=&gt; accoa_c + h_c + nadh_c</td>\n",
              "    </tr>\n",
              "    <tr>\n",
              "      <td>13.14%</td>\n",
              "      <td>5.064</td>\n",
              "      <td>[0;  7.382]</td>\n",
              "      <td>AKGDH</td>\n",
              "      <td>akg_c + coa_c + nad_c --&gt; co2_c + nadh_c + succoa_c</td>\n",
              "    </tr>\n",
              "    <tr>\n",
              "      <td>0.00%</td>\n",
              "      <td>0</td>\n",
              "      <td>[-1.107;  0]</td>\n",
              "      <td>ALCD2x</td>\n",
              "      <td>etoh_c + nad_c &lt;=&gt; acald_c + h_c + nadh_c</td>\n",
              "    </tr>\n",
              "    <tr>\n",
              "      <td>8.04%</td>\n",
              "      <td>3.1</td>\n",
              "      <td>[2.945;  3.1]</td>\n",
              "      <td>Biomass_Ecoli_core</td>\n",
              "      <td>1.496 3pg_c + 3.7478 accoa_c + 59.81 atp_c + 0.361 e4p_c + 0.0709 f6p_c + 0.129 g3p_c + 0.205 g6p_c + 0.2557 gln__L_c + 4.9414 glu__L_c + 59.81 h2o_c + 3.547 nad_c + 13.0279 nadph_c + 1.7867 oaa_c + 0.5191 pep_c + 2.8328 pyr_c + 0.8977 r5p_c --&gt; 59.81 adp_c + 4.1182 akg_c + 3.7478 coa_c + 59.81 h_c + 3.547 nadh_c + 13.0279 nadp_c + 59.81 pi_c</td>\n",
              "    </tr>\n",
              "    <tr>\n",
              "      <td>41.58%</td>\n",
              "      <td>16.02</td>\n",
              "      <td>[11.2;  17.79]</td>\n",
              "      <td>GAPD</td>\n",
              "      <td>g3p_c + nad_c + pi_c &lt;=&gt; 13dpg_c + h_c + nadh_c</td>\n",
              "    </tr>\n",
              "    <tr>\n",
              "      <td>0.00%</td>\n",
              "      <td>0</td>\n",
              "      <td>[-1.073;  0]</td>\n",
              "      <td>LDH_D</td>\n",
              "      <td>lac__D_c + nad_c &lt;=&gt; h_c + nadh_c + pyr_c</td>\n",
              "    </tr>\n",
              "    <tr>\n",
              "      <td>13.14%</td>\n",
              "      <td>5.064</td>\n",
              "      <td>[0.3644;  13.55]</td>\n",
              "      <td>MDH</td>\n",
              "      <td>mal__L_c + nad_c &lt;=&gt; h_c + nadh_c + oaa_c</td>\n",
              "    </tr>\n",
              "    <tr>\n",
              "      <td>0.00%</td>\n",
              "      <td>0</td>\n",
              "      <td>[0;  6.885]</td>\n",
              "      <td>ME1</td>\n",
              "      <td>mal__L_c + nad_c --&gt; co2_c + nadh_c + pyr_c</td>\n",
              "    </tr>\n",
              "    <tr>\n",
              "      <td>0.00%</td>\n",
              "      <td>0</td>\n",
              "      <td>[0;  25.82]</td>\n",
              "      <td>NADTRHD</td>\n",
              "      <td>nad_c + nadph_c --&gt; nadh_c + nadp_c</td>\n",
              "    </tr>\n",
              "    <tr>\n",
              "      <td>24.09%</td>\n",
              "      <td>9.283</td>\n",
              "      <td>[3.903;  18.77]</td>\n",
              "      <td>PDH</td>\n",
              "      <td>coa_c + nad_c + pyr_c --&gt; accoa_c + co2_c + nadh_c</td>\n",
              "    </tr>\n",
              "  </tbody>\n",
              "</table><h4>Consuming Reactions</h4><table border=\"1\" class=\"dataframe\">\n",
              "  <thead>\n",
              "    <tr style=\"text-align: right;\">\n",
              "      <th>Percent</th>\n",
              "      <th>Flux</th>\n",
              "      <th>Range</th>\n",
              "      <th>Reaction</th>\n",
              "      <th>Definition</th>\n",
              "    </tr>\n",
              "  </thead>\n",
              "  <tbody>\n",
              "    <tr>\n",
              "      <td>100.00%</td>\n",
              "      <td>-38.53</td>\n",
              "      <td>[-46.63;  -35.46]</td>\n",
              "      <td>NADH16</td>\n",
              "      <td>4.0 h_c + nadh_c + q8_c --&gt; 3.0 h_e + nad_c + q8h2_c</td>\n",
              "    </tr>\n",
              "    <tr>\n",
              "      <td>0.00%</td>\n",
              "      <td>0</td>\n",
              "      <td>[-20.59;  0]</td>\n",
              "      <td>THD2</td>\n",
              "      <td>2.0 h_e + nadh_c + nadp_c --&gt; 2.0 h_c + nad_c + nadph_c</td>\n",
              "    </tr>\n",
              "  </tbody>\n",
              "</table>"
            ],
            "text/plain": [
              "<cobra.summary.metabolite_summary.MetaboliteSummary at 0x7f83eed0ee90>"
            ]
          },
          "metadata": {
            "tags": []
          },
          "execution_count": 120
        }
      ]
    },
    {
      "cell_type": "code",
      "metadata": {
        "colab": {
          "base_uri": "https://localhost:8080/",
          "height": 730
        },
        "id": "qulYGHnaS46_",
        "outputId": "df171989-6609-4919-ed0c-a2130e240e9d"
      },
      "source": [
        "getattr(model.genes,\"b3236\").knock_out()\n",
        "model.optimize()\n",
        "model.metabolites.nadh_c.summary(fva=0.95)"
      ],
      "execution_count": 116,
      "outputs": [
        {
          "output_type": "execute_result",
          "data": {
            "text/html": [
              "<h3>nadh_c</h3><p>C21H27N7O14P2</p><h4>Producing Reactions</h4><table border=\"1\" class=\"dataframe\">\n",
              "  <thead>\n",
              "    <tr style=\"text-align: right;\">\n",
              "      <th>Percent</th>\n",
              "      <th>Flux</th>\n",
              "      <th>Range</th>\n",
              "      <th>Reaction</th>\n",
              "      <th>Definition</th>\n",
              "    </tr>\n",
              "  </thead>\n",
              "  <tbody>\n",
              "    <tr>\n",
              "      <td>0.00%</td>\n",
              "      <td>0</td>\n",
              "      <td>[-1.513;  0]</td>\n",
              "      <td>ACALD</td>\n",
              "      <td>acald_c + coa_c + nad_c &lt;=&gt; accoa_c + h_c + nadh_c</td>\n",
              "    </tr>\n",
              "    <tr>\n",
              "      <td>18.46%</td>\n",
              "      <td>7.449</td>\n",
              "      <td>[0;  8.076]</td>\n",
              "      <td>AKGDH</td>\n",
              "      <td>akg_c + coa_c + nad_c --&gt; co2_c + nadh_c + succoa_c</td>\n",
              "    </tr>\n",
              "    <tr>\n",
              "      <td>0.00%</td>\n",
              "      <td>0</td>\n",
              "      <td>[-1.242;  0]</td>\n",
              "      <td>ALCD2x</td>\n",
              "      <td>etoh_c + nad_c &lt;=&gt; acald_c + h_c + nadh_c</td>\n",
              "    </tr>\n",
              "    <tr>\n",
              "      <td>7.26%</td>\n",
              "      <td>2.929</td>\n",
              "      <td>[2.783;  2.929]</td>\n",
              "      <td>Biomass_Ecoli_core</td>\n",
              "      <td>1.496 3pg_c + 3.7478 accoa_c + 59.81 atp_c + 0.361 e4p_c + 0.0709 f6p_c + 0.129 g3p_c + 0.205 g6p_c + 0.2557 gln__L_c + 4.9414 glu__L_c + 59.81 h2o_c + 3.547 nad_c + 13.0279 nadph_c + 1.7867 oaa_c + 0.5191 pep_c + 2.8328 pyr_c + 0.8977 r5p_c --&gt; 59.81 adp_c + 4.1182 akg_c + 3.7478 coa_c + 59.81 h_c + 3.547 nadh_c + 13.0279 nadp_c + 59.81 pi_c</td>\n",
              "    </tr>\n",
              "    <tr>\n",
              "      <td>44.12%</td>\n",
              "      <td>17.8</td>\n",
              "      <td>[9.838;  17.91]</td>\n",
              "      <td>GAPD</td>\n",
              "      <td>g3p_c + nad_c + pi_c &lt;=&gt; 13dpg_c + h_c + nadh_c</td>\n",
              "    </tr>\n",
              "    <tr>\n",
              "      <td>0.00%</td>\n",
              "      <td>0</td>\n",
              "      <td>[-1.188;  0]</td>\n",
              "      <td>LDH_D</td>\n",
              "      <td>lac__D_c + nad_c &lt;=&gt; h_c + nadh_c + pyr_c</td>\n",
              "    </tr>\n",
              "    <tr>\n",
              "      <td>1.83%</td>\n",
              "      <td>0.738</td>\n",
              "      <td>[0;  11.9]</td>\n",
              "      <td>ME1</td>\n",
              "      <td>mal__L_c + nad_c --&gt; co2_c + nadh_c + pyr_c</td>\n",
              "    </tr>\n",
              "    <tr>\n",
              "      <td>0.00%</td>\n",
              "      <td>0</td>\n",
              "      <td>[0;  44.63]</td>\n",
              "      <td>NADTRHD</td>\n",
              "      <td>nad_c + nadph_c --&gt; nadh_c + nadp_c</td>\n",
              "    </tr>\n",
              "    <tr>\n",
              "      <td>28.34%</td>\n",
              "      <td>11.43</td>\n",
              "      <td>[0.5791;  18.69]</td>\n",
              "      <td>PDH</td>\n",
              "      <td>coa_c + nad_c + pyr_c --&gt; accoa_c + co2_c + nadh_c</td>\n",
              "    </tr>\n",
              "  </tbody>\n",
              "</table><h4>Consuming Reactions</h4><table border=\"1\" class=\"dataframe\">\n",
              "  <thead>\n",
              "    <tr style=\"text-align: right;\">\n",
              "      <th>Percent</th>\n",
              "      <th>Flux</th>\n",
              "      <th>Range</th>\n",
              "      <th>Reaction</th>\n",
              "      <th>Definition</th>\n",
              "    </tr>\n",
              "  </thead>\n",
              "  <tbody>\n",
              "    <tr>\n",
              "      <td>100.00%</td>\n",
              "      <td>-40.36</td>\n",
              "      <td>[-51.41;  -35.29]</td>\n",
              "      <td>NADH16</td>\n",
              "      <td>4.0 h_c + nadh_c + q8_c --&gt; 3.0 h_e + nad_c + q8h2_c</td>\n",
              "    </tr>\n",
              "    <tr>\n",
              "      <td>0.00%</td>\n",
              "      <td>0</td>\n",
              "      <td>[-13.66;  0]</td>\n",
              "      <td>THD2</td>\n",
              "      <td>2.0 h_e + nadh_c + nadp_c --&gt; 2.0 h_c + nad_c + nadph_c</td>\n",
              "    </tr>\n",
              "  </tbody>\n",
              "</table>"
            ],
            "text/plain": [
              "<cobra.summary.metabolite_summary.MetaboliteSummary at 0x7f83ef154f10>"
            ]
          },
          "metadata": {
            "tags": []
          },
          "execution_count": 116
        }
      ]
    },
    {
      "cell_type": "markdown",
      "metadata": {
        "id": "9ldwlYSHVrQK"
      },
      "source": [
        "**Answer:** Knoking out b3236 gene affects MDH reaction wich produces about 13 % of NADH. As a result, NADB production is decreased."
      ]
    }
  ]
}