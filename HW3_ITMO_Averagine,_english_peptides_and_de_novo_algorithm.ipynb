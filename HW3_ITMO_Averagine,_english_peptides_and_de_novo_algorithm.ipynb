{
  "nbformat": 4,
  "nbformat_minor": 0,
  "metadata": {
    "colab": {
      "name": "HW3.ITMO.Averagine, english peptides and de novo algorithm.ipynb",
      "provenance": [],
      "collapsed_sections": [],
      "include_colab_link": true
    },
    "kernelspec": {
      "name": "python3",
      "display_name": "Python 3"
    }
  },
  "cells": [
    {
      "cell_type": "markdown",
      "metadata": {
        "id": "view-in-github",
        "colab_type": "text"
      },
      "source": [
        "<a href=\"https://colab.research.google.com/github/katerinakazantseva/scientific_python/blob/master/HW3_ITMO_Averagine%2C_english_peptides_and_de_novo_algorithm.ipynb\" target=\"_parent\"><img src=\"https://colab.research.google.com/assets/colab-badge.svg\" alt=\"Open In Colab\"/></a>"
      ]
    },
    {
      "cell_type": "markdown",
      "metadata": {
        "id": "bmoeL47HNKJf"
      },
      "source": [
        "###Hi everybody!###"
      ]
    },
    {
      "cell_type": "markdown",
      "metadata": {
        "id": "NfLZ5fDENbFi"
      },
      "source": [
        "Today we will get the definition and coefficients of the averaged amino acid - Avergine, Avg (yes, this is a stupid joke) -, build a dictionary of English words from the amino acid alphabet, simulate MS2 spectra for them and make a very simple *de novo* algorithm for identifying MS2.\n",
        "\n",
        "[Link](https://forms.gle/wGAUXcJ9E4D7uVDF6) to the google.form for answering questions.\n",
        "\n",
        "The program code is located here.\n",
        "\n",
        "Maximum grade: 20 scores"
      ]
    },
    {
      "cell_type": "markdown",
      "metadata": {
        "id": "kWNxEG-dPMMz"
      },
      "source": [
        "I suggest that we first enter all the libraries and tables necessary for the entire job  "
      ]
    },
    {
      "cell_type": "code",
      "metadata": {
        "id": "sHk1yhxIPK8h"
      },
      "source": [
        "import collections\n",
        "import random\n",
        "import re\n",
        "import os\n",
        "import sys\n",
        "import gzip\n",
        "import urllib.request\n",
        "\n",
        "import matplotlib.pyplot as plt\n",
        "import numpy as np\n",
        "import pandas as pd\n",
        "import seaborn as sns"
      ],
      "execution_count": null,
      "outputs": []
    },
    {
      "cell_type": "markdown",
      "metadata": {
        "id": "Wv3XJle0Pj2b"
      },
      "source": [
        "Compared to the previous task, the aa2formula table has undergone two changes\n",
        "\n",
        "\n",
        "*   In addition to the standard cysteine, I added 'C(ca)' - ([Cysteine Carbamidomethylation](https://www.sigmaaldrich.com/technical-documents/articles/biology/peptide-modifications-n-terminal-internal-and-c-terminal.html#cysteine-carbamidomethylation)). The fact is that cysteine forms intraprotein sulfide bridges and, in order to destroy existing ones and prevent the formation of new bridges, during the preparation of samples, experimenters add a reagent that reacts with cysteine, which leads to its modification. It is assumed that the efficiency of this reaction is 100%, therefore this modification is called fixed (fixed modification)\n",
        "![](https://upload.wikimedia.org/wikipedia/commons/thumb/7/77/Iodoacetamide_mech_wiki.png/1024px-Iodoacetamide_mech_wiki.png)\n",
        "*  'M(ox)' - oxidation reaction of methionine. Unlike the previous modification, oxidation is a rather variable modification (that is, not all methionines that we find in proteomics are modified), which may have a [biological regulatory significance]((https://www.liebertpub.com/doi/abs/10.1089/152308603770310239)) or may be introduced during sample preparation.\n",
        "\n",
        "![](https://www.ionsource.com/Card/MetOx/metox.1.gif)"
      ]
    },
    {
      "cell_type": "code",
      "metadata": {
        "id": "adfsTgVOPhjB"
      },
      "source": [
        "aa2formula = {\n",
        "    'A': {'C': 3, 'H': 7, 'N': 1, 'O': 2},\n",
        "    'R': {'C': 6, 'H': 14, 'N': 4, 'O': 2},\n",
        "    'N': {'C': 4, 'H': 8, 'N': 2, 'O': 3},\n",
        "    'D': {'C': 4, 'H': 7, 'N': 1, 'O': 4},\n",
        "    'C': {'C': 3, 'H': 7, 'N': 1, 'O': 2, 'S': 1},\n",
        "    'C(ca)': {'C': 5, 'H': 10, 'N': 2, 'O': 3, 'S': 1},\n",
        "    'Q': {'C': 5, 'H': 10, 'N': 2, 'O': 3},\n",
        "    'E': {'C': 5, 'H': 9, 'N': 1, 'O': 4},\n",
        "    'G': {'C': 2, 'H': 5, 'N': 1, 'O': 2},\n",
        "    'H': {'C': 6, 'H': 9, 'N': 3, 'O': 2},\n",
        "    'I': {'C': 6, 'H': 13, 'N': 1, 'O': 2},\n",
        "    'L': {'C': 6, 'H': 13, 'N': 1, 'O': 2},\n",
        "    'K': {'C': 6, 'H': 14, 'N': 2, 'O': 2},\n",
        "    'M': {'C': 5, 'H': 11, 'N': 1, 'O': 2, 'S': 1},\n",
        "    'M(ox)': {'C': 5, 'H': 11, 'N': 1, 'O': 3, 'S': 1},\n",
        "    'F': {'C': 9, 'H': 11, 'N': 1, 'O': 2},\n",
        "    'P': {'C': 5, 'H': 9, 'N': 1, 'O': 2},\n",
        "    'S': {'C': 3, 'H': 7, 'N': 1, 'O': 3},\n",
        "    'T': {'C': 4, 'H': 9, 'N': 1, 'O': 3},\n",
        "    'W': {'C': 11, 'H': 12, 'N': 2, 'O': 2},\n",
        "    'Y': {'C': 9, 'H': 11, 'N': 1, 'O': 3},\n",
        "    'V': {'C': 5, 'H': 11, 'N': 1, 'O': 2},\n",
        "}"
      ],
      "execution_count": null,
      "outputs": []
    },
    {
      "cell_type": "markdown",
      "metadata": {
        "id": "xvviF4seUcBy"
      },
      "source": [
        "In this task, we will ignore the existence of isotopes and will use monoisotopic masses, but you must always keep in mind that usually a few isotopes of the same peptide get into fragmentation. So fragments do form isotopic patterns similar to those that we simulated for MS1, but now on MS2 level."
      ]
    },
    {
      "cell_type": "code",
      "metadata": {
        "id": "Cs7aHRkhUc6T"
      },
      "source": [
        "atom2mass = {\n",
        "    'C': 12.0,\n",
        "    'H': 1.00782503223,\n",
        "    'O': 15.99491461956,\n",
        "    'N': 14.00307400486,\n",
        "    'S': 31.97207100\n",
        "}"
      ],
      "execution_count": null,
      "outputs": []
    },
    {
      "cell_type": "markdown",
      "metadata": {
        "id": "GtoobHYGPJbO"
      },
      "source": [
        "\n",
        "\n",
        "---\n",
        "\n"
      ]
    },
    {
      "cell_type": "markdown",
      "metadata": {
        "id": "d_JXKhkAPCPe"
      },
      "source": [
        "**Part 1. Averagine**\n",
        "\n",
        "Averagine is an abstract amino acid averaged over the occurrence of amino acids and atomic content. The concept itself was first formulated [in this article](https://link.springer.com/article/10.1016/1044-0305(95)00017-8). Using the protein sequence database [PIR](https://proteininformationresource.org/pirwww/about/), all amino acid sequences of all organisms available at that time (1995), the authors found the atomic formula of the Averagine molecule\n",
        "* C 4.9384\n",
        "* H 7.7583\n",
        "* N 1.3577\n",
        "* O 1.4773\n",
        "* S 0.0417\n",
        "\n",
        "and a mass of 111.1254 Da.\n",
        "\n",
        "The Averagine abstraction is very useful for many steps in the proteomics data analysis. "
      ]
    },
    {
      "cell_type": "markdown",
      "metadata": {
        "id": "eAjGsJZU7yyJ"
      },
      "source": [
        "Download the fasta file with the proteome of the organism of interest from [uniprot](https://www.uniprot.org/proteomes/)."
      ]
    },
    {
      "cell_type": "code",
      "metadata": {
        "id": "IgA90_Y_VQQf"
      },
      "source": [
        "def read_fasta(uniprot_id, kingdom=\"Eukaryota\"):\n",
        "    filename = \"{}.fasta\".format(uniprot_id)\n",
        "    if not os.path.exists(filename):\n",
        "        urllib.request.urlretrieve(\n",
        "            \"ftp://ftp.uniprot.org/pub/databases/uniprot/current_release/knowledgebase/reference_proteomes/{}/{}.fasta.gz\".format(kingdom, uniprot_id),\n",
        "            filename)\n",
        "    seq = \"\"\n",
        "    nam = \"\"\n",
        "    records = {}\n",
        "    with open(filename, 'rt') as fs:\n",
        "        for line in fs:\n",
        "            if line[0] == '>':\n",
        "                if nam != \"\":\n",
        "                    records[nam] = seq\n",
        "                nam = line.split()[0][1:]\n",
        "                seq = \"\"\n",
        "            else:\n",
        "                seq += line.rstrip()\n",
        "        # TODO I guess, we may forget something\n",
        "    return records"
      ],
      "execution_count": null,
      "outputs": []
    },
    {
      "cell_type": "markdown",
      "metadata": {
        "id": "IbfqKbO68Psk"
      },
      "source": [
        "*UP000005640_9606* is the uniprot_id of the human proteome. How I found this match? I did a search on the site [uniprot](https://www.uniprot.org/proteomes/), but it was also possible to use the [REST API](https://www.uniprot.org/help/programmatic_access )."
      ]
    },
    {
      "cell_type": "code",
      "metadata": {
        "id": "hEwc3MWCVW4n",
        "colab": {
          "base_uri": "https://localhost:8080/",
          "height": 156
        },
        "outputId": "f6733702-c327-406a-8048-af50b4d909f3"
      },
      "source": [
        "human_records = read_fasta(\"UP000005640_9606\")\n",
        "human_records['sp|Q14003|KCNC3_HUMAN']"
      ],
      "execution_count": null,
      "outputs": [
        {
          "output_type": "execute_result",
          "data": {
            "application/vnd.google.colaboratory.intrinsic+json": {
              "type": "string"
            },
            "text/plain": [
              "'MLSSVCVSSFRGRQGASKQQPAPPPQPPESPPPPPLPPQQQQPAQPGPAASPAGPPAPRGPGDRRAEPCPGLPAAAMGRHGGGGGDSGKIVINVGGVRHETYRSTLRTLPGTRLAGLTEPEAAARFDYDPGADEFFFDRHPGVFAYVLNYYRTGKLHCPADVCGPLFEEELGFWGIDETDVEACCWMTYRQHRDAEEALDSFEAPDPAGAANAANAAGAHDGGLDDEAGAGGGGLDGAGGELKRLCFQDAGGGAGGPPGGAGGAGGTWWRRWQPRVWALFEDPYSSRAARYVAFASLFFILISITTFCLETHEGFIHISNKTVTQASPIPGAPPENITNVEVETEPFLTYVEGVCVVWFTFEFLMRITFCPDKVEFLKSSLNIIDCVAILPFYLEVGLSGLSSKAAKDVLGFLRVVRFVRILRIFKLTRHFVGLRVLGHTLRASTNEFLLLIIFLALGVLIFATMIYYAERIGADPDDILGSNHTYFKNIPIGFWWAVVTMTTLGYGDMYPKTWSGMLVGALCALAGVLTIAMPVPVIVNNFGMYYSLAMAKQKLPKKKNKHIPRPPQPGSPNYCKPDPPPPPPPHPHHGSGGISPPPPITPPSMGVTVAGAYPAGPHTHPGLLRGGAGGLGIMGLPPLPAPGEPCPLAQEEVIEINRADPRPNGDPAAAALAHEDCPAIDQPAMSPEDKSPITPGSRGRYSRDRACFLLTDYAPSPDGSIRKATGAPPLPPQDWRKPGPPSFLPDLNANAAAWISP'"
            ]
          },
          "metadata": {},
          "execution_count": 43
        }
      ]
    },
    {
      "cell_type": "markdown",
      "metadata": {
        "id": "qG4Lmg6S3QrP"
      },
      "source": [
        ""
      ]
    },
    {
      "cell_type": "markdown",
      "metadata": {
        "id": "xtF9pYo_8L3k"
      },
      "source": [
        "Let's write a function that finds the frequency of amino acids occurrences by a set of amino acid sequences and finds the Averagine coefficients as the mathematical expectation."
      ]
    },
    {
      "cell_type": "code",
      "metadata": {
        "id": "XUhWuT5NaGa9"
      },
      "source": [
        "def get_averagine(fasta_records):\n",
        "    aa2count = {k: 0 for k, v in aa2formula.items()}\n",
        "    for k, v in fasta_records.items():\n",
        "        for aa in v:\n",
        "            if aa in aa2count:\n",
        "                aa2count[aa]=aa2count[aa]+1\n",
        "                \n",
        "    aa_count_sum = sum(aa2count.values())\n",
        "    atom2count = {'C': 0, 'H': 0, 'N': 0, 'O': 0, 'S': 0}\n",
        "    for aa, aa_count in aa2count.items():\n",
        "        prob = aa_count / aa_count_sum\n",
        "       \n",
        "        for atom, atom_count in aa2formula[aa].items():\n",
        "            atom2count[atom] += atom_count*prob\n",
        "        atom2count['H'] = atom2count['H']-2*prob\n",
        "        atom2count['O'] = atom2count['O']-prob\n",
        "    return atom2count"
      ],
      "execution_count": null,
      "outputs": []
    },
    {
      "cell_type": "markdown",
      "metadata": {
        "id": "nSW45CHC9Yl6"
      },
      "source": [
        "Drum Roll - let's find Averagine for Human.\n",
        "\n",
        "And they turned out to be quite close to the values from this [article](https://link.springer.com/article/10.1016/1044-0305(95)00017-8), I hope."
      ]
    },
    {
      "cell_type": "code",
      "metadata": {
        "id": "rjiCpNTycrQw",
        "colab": {
          "base_uri": "https://localhost:8080/"
        },
        "outputId": "a6ab6049-33a0-4c5b-eadf-b9b0eff9791d"
      },
      "source": [
        "human_aa_avg = get_averagine(human_records)\n",
        "print('\\n'.join([\"{}\\t{}\".format(a, round(count, 3)) for a, count in human_aa_avg.items()]))\n",
        "assert round(human_aa_avg['C'], 3) == 4.921, \"Wrong C-coeffiecient of Averagine\"\n",
        "assert round(human_aa_avg['H'], 3) == 7.766, \"Wrong H-coeffiecient of Averagine\"\n",
        "assert round(human_aa_avg['N'], 3) == 1.375, \"Wrong N-coeffiecient of Averagine\"\n",
        "assert round(human_aa_avg['O'], 3) == 1.484, \"Wrong O-coeffiecient of Averagine\"\n",
        "assert round(human_aa_avg['S'], 3) == 0.044, \"Wrong S-coeffiecient of Averagine\"\n",
        "avg_mass = sum([atom2mass[k]*v for k, v in human_aa_avg.items()])\n",
        "print(round(avg_mass, 3))\n",
        "assert abs(round(avg_mass, 3) - 111.278) < 0.01, \"Wrong human Averagine mass\""
      ],
      "execution_count": null,
      "outputs": [
        {
          "output_type": "stream",
          "name": "stdout",
          "text": [
            "C\t4.921\n",
            "H\t7.766\n",
            "N\t1.375\n",
            "O\t1.484\n",
            "S\t0.044\n",
            "111.28\n"
          ]
        }
      ]
    },
    {
      "cell_type": "markdown",
      "metadata": {
        "id": "CVcwG6Tg-rOO"
      },
      "source": [
        "**Question 1** - in the [google.form](https://forms.gle/nTKosK3dUiK2terx9)"
      ]
    },
    {
      "cell_type": "code",
      "metadata": {
        "id": "Kf_CGx3SXH4t",
        "colab": {
          "base_uri": "https://localhost:8080/"
        },
        "outputId": "d89033bb-5fbe-42a4-dd46-040bec67c93a"
      },
      "source": [
        "td = read_fasta(\"UP000007648_9305\")\n",
        "td_aa_avg = get_averagine(td)\n",
        "avg_mass = sum([atom2mass[k]*v for k, v in td_aa_avg.items()])\n",
        "print(round(avg_mass, 3))"
      ],
      "execution_count": null,
      "outputs": [
        {
          "output_type": "stream",
          "name": "stdout",
          "text": [
            "111.738\n"
          ]
        }
      ]
    },
    {
      "cell_type": "markdown",
      "metadata": {
        "id": "1yjSu3Ln_wbF"
      },
      "source": [
        "\n",
        "\n",
        "---\n",
        "\n"
      ]
    },
    {
      "cell_type": "markdown",
      "metadata": {
        "id": "XI_YZLwk_x3V"
      },
      "source": [
        "**Part 2. English peptides, MS2 simulation and de novo peptide assembly algorithm**"
      ]
    },
    {
      "cell_type": "markdown",
      "metadata": {
        "id": "R3OpOX_2_jn2"
      },
      "source": [
        "MADAGASCAR, AMSTERDAM, SCIENCE, PEPTIDE, ... - these are all English words made up of a 20-letter amino acid dictionary. Let's take a large set of English words and filter out those words that can be composed of amino acids?"
      ]
    },
    {
      "cell_type": "code",
      "metadata": {
        "id": "rbNn6p1OVhzX"
      },
      "source": [
        "def is_peptide(sequence):\n",
        "    aa_dict = set(\"ACDEFGHIKLMNPQRSTVWY\") # all amino acids\n",
        "    return not bool(set(sequence).difference(aa_dict))\n",
        "\n",
        "\n",
        "def load_words(word_file):\n",
        "    valid_words = []\n",
        "    with open(word_file) as word_stream:\n",
        "        for line in word_stream:\n",
        "            word = line.rstrip().upper()\n",
        "            if is_peptide(word):\n",
        "                valid_words.append(word)\n",
        "    return valid_words\n",
        "\n",
        "filename = \"words_alpha.txt\"\n",
        "location = \"https://raw.githubusercontent.com/dwyl/english-words/master/\" + filename\n",
        "\n",
        "if not os.path.exists(filename):\n",
        "    urllib.request.urlretrieve(location, filename)\n",
        "\n",
        "english_peptides = load_words(filename)\n",
        "print(len(english_peptides))"
      ],
      "execution_count": null,
      "outputs": []
    },
    {
      "cell_type": "markdown",
      "metadata": {
        "id": "aNzDLPh3E_nm"
      },
      "source": [
        "To make these English peptides look more like real ones, we need to do some manipulation on them.\n",
        "\n",
        "First, let's filter by length - proteomics very poorly detects peptides less than 6 amino acids in length (aa)."
      ]
    },
    {
      "cell_type": "code",
      "metadata": {
        "id": "t3hThvU_FbJF"
      },
      "source": [
        "def filer_length(peptides, min_length=6):\n",
        "    new_peptides = []\n",
        "    for peptide in peptides:\n",
        "        if len(peptide) >= min_length:\n",
        "            new_peptides.append(peptide)\n",
        "    return new_peptides"
      ],
      "execution_count": null,
      "outputs": []
    },
    {
      "cell_type": "markdown",
      "metadata": {
        "id": "3ZjGUeajFwu1"
      },
      "source": [
        "Unfortunately, we will not be able to work with the SCIENCE peptide, because it does not have lysine or arginine at the C-terminus (blue). But we can simply add arginine to all English peptides, then not SCIENCE, but SCIENCER, that is, a person who does science.\n",
        "\n",
        "![alt text](https://upload.wikimedia.org/wikipedia/commons/thumb/0/08/Tetrapeptide_structural_formulae_v.1.png/1920px-Tetrapeptide_structural_formulae_v.1.png)"
      ]
    },
    {
      "cell_type": "code",
      "metadata": {
        "id": "GAfWpYqyFwMc"
      },
      "source": [
        "def add_arginine(peptides):\n",
        "    new_peptides = []\n",
        "    for peptide in peptides:\n",
        "        new_peptides.append(peptide + 'R')\n",
        "    return new_peptides"
      ],
      "execution_count": null,
      "outputs": []
    },
    {
      "cell_type": "markdown",
      "metadata": {
        "id": "TrDuI-buGwSp"
      },
      "source": [
        "And the last thing - methionine can be oxidized, and in our world this is an absolutely random process. Note that the non-oxidized form always remains among the English peptides."
      ]
    },
    {
      "cell_type": "code",
      "metadata": {
        "id": "cbkAWY43GOK8"
      },
      "source": [
        "def add_methionine_oxydation(peptides, prob=0.1):\n",
        "    random.seed(12345)\n",
        "    new_peptides = []\n",
        "    for peptide in peptides:\n",
        "        new_peptide = \"\"\n",
        "        for aa in peptide:\n",
        "            if aa == 'M' and random.random() < prob:\n",
        "                new_peptide += \"M(ox)\"\n",
        "            else:\n",
        "                new_peptide += aa\n",
        "        if new_peptide != peptide:\n",
        "            new_peptides.append(new_peptide)\n",
        "        new_peptides.append(peptide)\n",
        "\n",
        "    return new_peptides"
      ],
      "execution_count": null,
      "outputs": []
    },
    {
      "cell_type": "code",
      "metadata": {
        "id": "DzBHzif6HWnG"
      },
      "source": [
        "mod_english_peptides = add_methionine_oxydation(add_arginine(filer_length(english_peptides)))\n",
        "print(len(mod_english_peptides))"
      ],
      "execution_count": null,
      "outputs": []
    },
    {
      "cell_type": "markdown",
      "metadata": {
        "id": "EDZ_jgd-IDce"
      },
      "source": [
        "Plot the length distribution of these English peptides"
      ]
    },
    {
      "cell_type": "code",
      "metadata": {
        "id": "UvykhT8IHpvu"
      },
      "source": [
        "length_arr = [len(peptide) for peptide in mod_english_peptides]\n",
        "\n",
        "plt.title(\"Length distribution of English peptides\")\n",
        "plt.ylabel(\"count\")\n",
        "plt.xlabel(\"length\")\n",
        "plt.hist(length_arr, range(min(length_arr), max(length_arr)), histtype='bar', rwidth=0.8)\n",
        "plt.show()"
      ],
      "execution_count": null,
      "outputs": []
    },
    {
      "cell_type": "markdown",
      "metadata": {
        "id": "e2T-9IqIxKkH"
      },
      "source": [
        "Great, but where is proteomics?"
      ]
    },
    {
      "cell_type": "markdown",
      "metadata": {
        "id": "2OlCVZv1xpWJ"
      },
      "source": [
        "![alt text](https://www.meme-arsenal.com/memes/b0e1b7cd6ed3c0b4f98e1b9385ad6b4d.jpg)"
      ]
    },
    {
      "cell_type": "markdown",
      "metadata": {
        "id": "80G0A1HjIQJn"
      },
      "source": [
        "Unfortunately, still no one has bothered to chemically synthesize these peptides, although by modern standards this is already quite [a solvable problem](https://www.nature.com/articles/nbt.2585). Therefore, we will use a neural network that predicts the fragment intensities for MS2 from the peptide sequence. The model itself was trained on a lot of proteomic data and shows good results on real [trypsin peptides](https://www.nature.com/articles/s41592-019-0427-6) (which is why we added R to the English peptides) ...\n",
        "\n",
        "![](https://3.bp.blogspot.com/-4CS6EajXxMM/XOxhWwp0wBI/AAAAAAAAJ7s/hPh5grRWPT0tvFuPpJYPpmh0SF1vrikNgCLcBGAs/s640/example_prediction%2B%25281%2529.jpg)"
      ]
    },
    {
      "cell_type": "markdown",
      "metadata": {
        "id": "_b2P-uwyKQ87"
      },
      "source": [
        "The neural model itself can be used only on Google Cloud ML, following detailed instructions from [the authors of the article](https://github.com/verilylifesciences/deepmass/tree/master/prism). To do this, you need to save the peptides in a csv file, with four required columns: *ModifiedSequence, Charge, Fragmentation, MassAnalyzer*. \n",
        "\n",
        "*ModifiedSequence* are the sequences of the modified English peptide.\n",
        "\n",
        "Let the charge for all peptides be 2 (*Charge*).\n",
        "\n",
        "There are many ways to fragment peptides into fragments inside the measuring device - *HCD* and *CID* are, perhaps, the most popular and accessible of them. These two fragmentation methods are very similar - they generate the same y- and b-ions, but with a difference in intensity. In the case of English peptides, we will create two files for both fragmentation methods. As a mass analyzer (*MassAnalyzer*), we will indicate [FTMS](https://en.wikipedia.org/wiki/Fourier-transform_ion_cyclotron_resonance) - Orbitrap is part of this family of mass analyzers. "
      ]
    },
    {
      "cell_type": "code",
      "metadata": {
        "id": "WBjjk0RTIWap"
      },
      "source": [
        "def write_peptides_DeepMass(peptides, output_file, charge=2, fragmentation=\"CID\", mass_analyzer=\"FTMS\"):\n",
        "    with open(output_file, 'w') as wstream:\n",
        "        wstream.write(\"ModifiedSequence,Charge,Fragmentation,MassAnalyzer\\n\")\n",
        "        for peptide in peptides:\n",
        "            wstream.write(','.join([peptide, str(charge), fragmentation, mass_analyzer]) + '\\n')\n",
        "\n",
        "if not os.path.exists(\"english_peptides.2.cid\"):\n",
        "    os.makedirs(\"english_peptides.2.cid\")\n",
        "write_peptides_DeepMass(mod_english_peptides, \"english_peptides.2.cid/input_table.csv\", 2, \"CID\")\n",
        "if not os.path.exists(\"english_peptides.2.hcd\"):\n",
        "    os.makedirs(\"english_peptides.2.hcd\")\n",
        "write_peptides_DeepMass(mod_english_peptides, \"english_peptides.2.hcd/input_table.csv\", 2, \"HCD\")"
      ],
      "execution_count": null,
      "outputs": []
    },
    {
      "cell_type": "markdown",
      "metadata": {
        "id": "-rsC6H-CNUto"
      },
      "source": [
        "And then you need to follow the instructions - [pre-processing, prediction, post-processing](https://github.com/verilylifesciences/deepmass/tree/master/prism). All these steps are quite routine and require tedious registration and setup of the [Google Cloud Project](https://cloud.google.com/) and communication with colleagues. Therefore, I suggest to just use the data that I received after completing all these steps.\n",
        "\n",
        "[Results for CID](https://drive.google.com/open?id=1Gmw7nzzjCP2vYFqbGvJEY1LULHutSwCS) prediction\n",
        "\n",
        "[Results for HCD](https://drive.google.com/open?id=19U7DCRXH3QdsjwuzgDPjFG0AfxyCNX5v) prediction\n",
        "\n",
        "Or you can use this code, which downloads the data to the current working folder."
      ]
    },
    {
      "cell_type": "code",
      "metadata": {
        "id": "3QexmHhdP09X"
      },
      "source": [
        "cid_file = \"english_peptides.2.cid.outputs.tsv.gz\"\n",
        "if not os.path.exists(cid_file):\n",
        "    google_drive_file = urllib.request.urlopen(\"https://drive.google.com/uc?export=download&id=1Gmw7nzzjCP2vYFqbGvJEY1LULHutSwCS\")\n",
        "    with open(cid_file, 'wb') as out:\n",
        "        out.write(google_drive_file.read())\n",
        "\n",
        "hcd_file = \"english_peptides.2.hcd.outputs.tsv.gz\"\n",
        "if not os.path.exists(hcd_file):\n",
        "    google_drive_file = urllib.request.urlopen(\"https://drive.google.com/uc?export=download&id=19U7DCRXH3QdsjwuzgDPjFG0AfxyCNX5v\")\n",
        "    with open(hcd_file, 'wb') as out:\n",
        "        out.write(google_drive_file.read())"
      ],
      "execution_count": null,
      "outputs": []
    },
    {
      "cell_type": "markdown",
      "metadata": {
        "id": "O2nPsLCzaFXo"
      },
      "source": [
        "We slightly modify the functions we made during the last homework to work with modified peptides."
      ]
    },
    {
      "cell_type": "code",
      "metadata": {
        "id": "__iYnJ3jcghn",
        "colab": {
          "base_uri": "https://localhost:8080/"
        },
        "outputId": "ea3216c8-9cfc-4370-f171-2810e38870ab"
      },
      "source": [
        "aa2formula[aa]\n",
        "aas = re.findall(r'(\\w(?:\\(\\w+\\))?)',\"GM(ox)ATSR\")\n",
        "print (aas)"
      ],
      "execution_count": null,
      "outputs": [
        {
          "output_type": "stream",
          "name": "stdout",
          "text": [
            "['G', 'M(ox)', 'A', 'T', 'S', 'R']\n"
          ]
        }
      ]
    },
    {
      "cell_type": "code",
      "metadata": {
        "id": "2qyFdoLjZ5s5"
      },
      "source": [
        "def get_mol_formula(mod_sequence):\n",
        "    result = {'C': 0, 'H': 0, 'N': 0, 'O': 0, 'S': 0}\n",
        "    aas = re.findall(r'(\\w(?:\\(\\w+\\))?)', mod_sequence)\n",
        "    # that regular expression is tricky one\n",
        "    # \"GM(ox)ATSR\" will be splitted on  \"G\" \"M(ox)\" \"A\" \"C(ca)\" \"S\" \"R\"\n",
        "    for aa in aas:\n",
        "        for key, value in aa2formula[aa].items():\n",
        "            result[key] += value\n",
        "        #atom2count['H'] = atom2count['H']-2*value\n",
        "    result['O'] = result['O']-(len(aas)-1)\n",
        "    result['H'] = result['H']-(len(aas)-1)*2\n",
        "    return result\n",
        "\n",
        "\n",
        "def get_mass_mol_formula(formula):\n",
        "    m = 0.0\n",
        "    for atom, cnt in formula.items():\n",
        "        m+=atom2mass[atom]*cnt\n",
        "    return m"
      ],
      "execution_count": null,
      "outputs": []
    },
    {
      "cell_type": "code",
      "metadata": {
        "id": "TYQHvGkC70ym",
        "colab": {
          "base_uri": "https://localhost:8080/"
        },
        "outputId": "69bb54f4-9b10-4134-f791-90aefc2e019d"
      },
      "source": [
        "formula = get_mol_formula(\"GM(ox)ATSR\")\n",
        "\n",
        "print(formula)\n",
        "assert formula['C'] == 23, \"Wrong amount of Carbon atoms\"\n",
        "assert formula['O'] == 10, \"Wrong amount of Oxygen atoms\"\n",
        "assert formula['S'] == 1, \"Wrong amount of Sulfur atoms\"\n",
        "mass = get_mass_mol_formula(formula)\n",
        "assert abs(round(mass, 3) - 637.285) < 0.01, \"Wrong mass\""
      ],
      "execution_count": null,
      "outputs": [
        {
          "output_type": "stream",
          "name": "stdout",
          "text": [
            "{'C': 23, 'H': 43, 'N': 9, 'O': 10, 'S': 1}\n"
          ]
        }
      ]
    },
    {
      "cell_type": "markdown",
      "metadata": {
        "id": "edrNA-jyahew"
      },
      "source": [
        "We will keep DeepMass predictions in several classes. This will allow us to quickly scale up our solution.\n",
        "\n",
        "Let's create a class for one fragment from MS2."
      ]
    },
    {
      "cell_type": "code",
      "metadata": {
        "id": "Tklz_XLtahno"
      },
      "source": [
        "class Fragment:\n",
        "    \"\"\"\n",
        "    Fragment class holds information about one fragment in MS2 spectrum\n",
        "    \"\"\"\n",
        "\n",
        "    def __init__(self, mz, intensity, ion_type, position):\n",
        "        \"\"\"\n",
        "        :param mz: mass to charge ratio of the fragment\n",
        "        :param intensity: intensity of the fragment\n",
        "        :param ion_type: 'y' or 'b' ions, and '!' for noise-fragment\n",
        "        :param position: fragment position within a peptide sequence, -1 for noise-fragments\n",
        "        \"\"\"\n",
        "        self.mz = mz\n",
        "        self.intensity = intensity\n",
        "        self.ion_type = ion_type\n",
        "        self.position = position"
      ],
      "execution_count": null,
      "outputs": []
    },
    {
      "cell_type": "markdown",
      "metadata": {
        "id": "l1_0ejD-bid4"
      },
      "source": [
        "And one more class for the whole spectrum, the aggregate of fragments.\n",
        "\n",
        "The *add_noise* function will allow you to add random fragments that will simulate noise: in reality, it can be a co-fragmentation peptide or just technical noise from a mass analyzer.\n",
        "\n",
        "The *plot* function will allow you to visualize the spectrum of interest."
      ]
    },
    {
      "cell_type": "code",
      "metadata": {
        "id": "4ItFbVegbh8Q"
      },
      "source": [
        "class Spectrum:\n",
        "    \"\"\"\n",
        "    Spectrum class holds peptide sequence information and information about fragments\n",
        "    \"\"\"\n",
        "\n",
        "    def __init__(self, mod_sequence, fragments):\n",
        "        \"\"\"\n",
        "        :param mod_sequence: peptide sequence with modifications (like (ox) etc.)\n",
        "        :param precursor_mz: 1-charges mass of the peptide\n",
        "        :param fragments: list of Fragment objects - MS2 fragments of certain peptide\n",
        "        \"\"\"\n",
        "        self.mod_sequence = mod_sequence\n",
        "        self.sequence = re.sub(r'\\(\\w+\\)', '', mod_sequence) # remove modifications\n",
        "        self.precursor_mz = get_mass_mol_formula(get_mol_formula(mod_sequence))\n",
        "        self.mod_aas = re.findall(r'(\\w(?:\\(\\w+\\))?)', mod_sequence) # the same reg.exp as in get_mol_formula    \n",
        "        self.fragments = sorted(fragments, key=lambda x: x.mz)\n",
        "        \n",
        "    def add_noise(self, noise_factor=2, percentile=0.3):\n",
        "        \"\"\"Add noise to the data - make it more real\n",
        "        :param noise_factor: - how many noise fragments to create? - noise_factor*<number of non-0 fragments>\n",
        "        :param percentile:\n",
        "        :return: will return a new Spectrum; Achtung - shallow copy\n",
        "        \"\"\"\n",
        "        intensities = [f.intensity for f in self.fragments if f.intensity != 0.0]\n",
        "        new_fragments = [f for f in self.fragments]\n",
        "        cnt_noise_fragments = int(noise_factor * len(intensities))\n",
        "\n",
        "        # to make noise reproducible and different from sequence to sequence\n",
        "        np.random.seed(abs(hash(self.mod_sequence)) % (2 ** 32))\n",
        "        noise_max_intensity = np.percentile(intensities, percentile * 100)\n",
        "        noise_intensities = np.random.uniform(0, noise_max_intensity, cnt_noise_fragments)\n",
        "        noise_mzs = np.random.uniform(0, max([f.mz for f in self.fragments]) + 150, cnt_noise_fragments)\n",
        "        for i in range(cnt_noise_fragments):\n",
        "            new_fragments.append(Fragment(noise_mzs[i], abs(noise_intensities[i]), '!', -1))\n",
        "        # I am only commenting out this `return` so that you pay attention to the implementation details of this add_noise function.\n",
        "        # Try to understand what is going on here, it will be important further\n",
        "        # return Spectrum(self.mod_sequence, new_fragments)\n",
        "        return None\n",
        "\n",
        "    def plot(self):\n",
        "        \"\"\"\n",
        "        :return: none\n",
        "        \"\"\"\n",
        "        fig = plt.figure(constrained_layout=True)\n",
        "        gs = fig.add_gridspec(ncols=5, nrows=10)\n",
        "        xmin = 0\n",
        "        xmax = max([f.mz for f in self.fragments]) + 150\n",
        "\n",
        "        ax0 = fig.add_subplot(gs[0, :])\n",
        "        ax0.text(0.0, 0.0, self.mod_sequence, fontsize=12)\n",
        "        ax0.axis('off')\n",
        "\n",
        "        ax1 = fig.add_subplot(gs[1, :])\n",
        "        ax1.vlines(x=[f.mz for f in self.fragments if f.intensity != 0.0 and f.ion_type == \"b\"],\n",
        "                   ymin=0,\n",
        "                   ymax=[1 for f in self.fragments if f.intensity != 0.0 and f.ion_type == \"b\"],\n",
        "                   colors=\"red\",\n",
        "                   alpha=0.4)\n",
        "        ax1.vlines(x=[f.mz for f in self.fragments if f.intensity == 0.0 and f.ion_type == \"b\"],\n",
        "                   ymin=0,\n",
        "                   ymax=[1 for f in self.fragments if f.intensity == 0.0 and f.ion_type == \"b\"],\n",
        "                   linestyles=\"dotted\",\n",
        "                   colors=\"red\",\n",
        "                   alpha=0.4)\n",
        "        bmass = [f.mz for f in self.fragments if f.ion_type == \"b\"] + [xmin, xmax]\n",
        "        bmass.sort()\n",
        "        for f in self.fragments:\n",
        "            if f.ion_type == \"b\":\n",
        "                xpos = (bmass[f.position] - bmass[f.position - 1]) / 2 + bmass[f.position - 1]\n",
        "                ax1.annotate(self.mod_aas[f.position - 1], (xpos, 0.5), fontsize=8, ha='center')\n",
        "        ax1.axes.get_xaxis().set_visible(False)\n",
        "        ax1.axes.get_yaxis().set_ticks([])\n",
        "        ax1.set_ylabel(\"prefix\\n(b-ions)\", fontsize=8)\n",
        "        ax1.set_xlim([xmin, xmax])\n",
        "\n",
        "        ax2 = fig.add_subplot(gs[2, :])\n",
        "        ax2.vlines(x=[f.mz for f in self.fragments if f.intensity != 0.0 and f.ion_type == \"y\"],\n",
        "                   ymin=0,\n",
        "                   ymax=[1 for f in self.fragments if f.intensity != 0.0 and f.ion_type == \"y\"],\n",
        "                   colors=\"blue\",\n",
        "                   alpha=0.4)\n",
        "        ax2.vlines(x=[f.mz for f in self.fragments if f.intensity == 0.0 and f.ion_type == \"y\"],\n",
        "                   ymin=0,\n",
        "                   ymax=[1 for f in self.fragments if f.intensity == 0.0 and f.ion_type == \"y\"],\n",
        "                   linestyles=\"dotted\",\n",
        "                   colors=\"blue\",\n",
        "                   alpha=0.4)\n",
        "        ymass = [f.mz for f in self.fragments if f.ion_type == \"y\"] + [xmin, xmax]\n",
        "        ymass.sort()\n",
        "        for f in self.fragments:\n",
        "            if f.ion_type == \"y\":\n",
        "                xpos = (ymass[f.position] - ymass[f.position - 1]) / 2 + ymass[f.position - 1]\n",
        "                ax2.annotate(self.mod_aas[len(self.sequence) - f.position], (xpos, 0.5), fontsize=8, ha='center')\n",
        "        ax2.axes.get_xaxis().set_visible(False)\n",
        "        ax2.axes.get_yaxis().set_ticks([])\n",
        "        ax2.set_ylabel(\"suffix\\n(y-ions)\", fontsize=8)\n",
        "        ax2.set_xlim([xmin, xmax])\n",
        "\n",
        "        ax3 = fig.add_subplot(gs[3:, :])\n",
        "        colors = []\n",
        "        for f in self.fragments:\n",
        "            if f.intensity != 0.0:\n",
        "                if f.ion_type == 'y':\n",
        "                    colors.append('blue')\n",
        "                elif f.ion_type == 'b':\n",
        "                    colors.append('red')\n",
        "                else:\n",
        "                    colors.append('grey')\n",
        "        ax3.vlines(x=[f.mz for f in self.fragments if f.intensity != 0.0],\n",
        "                   ymin=0,\n",
        "                   ymax=[f.intensity for f in self.fragments if f.intensity != 0.0],\n",
        "                   color=colors,\n",
        "                   alpha=0.4)\n",
        "        for f in self.fragments:\n",
        "            if f.intensity != 0.0:\n",
        "                if f.ion_type == 'y':\n",
        "                    ax3.annotate(round(f.mz, 2), (f.mz, f.intensity), fontsize=8, ha='center', color=\"blue\")\n",
        "                elif f.ion_type == 'b':\n",
        "                    ax3.annotate(round(f.mz, 2), (f.mz, f.intensity), fontsize=8, ha='center', color=\"red\")\n",
        "        ax3.set_xlim([xmin, xmax])\n",
        "\n",
        "        plt.show()"
      ],
      "execution_count": null,
      "outputs": []
    },
    {
      "cell_type": "markdown",
      "metadata": {
        "id": "PQQs0pRgetB0"
      },
      "source": [
        "Perhaps now is the best time to talk about the value of the *ion_type* variable in the *Fragment* class, which can take the values ​​'y' or 'b' for [CID/HCD fragmentation](https://support.proteomesoftware.com/hc/en-us/articles/115000616243-CID-ETD-HCD-and-Other-Fragmentation-Modes-in-Scaffold).\n",
        "\n",
        "Consider the peptide GLSDGEWQQVLNVWGK. After fragmentation for this peptide, we can see the following prefixes\n",
        "\n",
        "![](http://ionsource.com/tutorial/DeNovo/art/b_ions_arrows.gif)\n",
        "\n",
        "and suffixes\n",
        "\n",
        "![](http://ionsource.com/tutorial/DeNovo/art/y_ions_arrows.gif).\n",
        "\n",
        "However, the peptide bond itself can be broken in different ways, and the community has agreed on certain names for the corresponding fragments - a/x, b/y, c/z.\n",
        "![](https://upload.wikimedia.org/wikipedia/commons/f/fb/Peptide_fragmentation.gif)\n",
        "\n",
        "HCD/CID fragmentation methods generate exclusively b/y ions."
      ]
    },
    {
      "cell_type": "markdown",
      "metadata": {
        "id": "b9ok_3TFcbj4"
      },
      "source": [
        "Now you can read the results from DeepMass.\n",
        "\n",
        "A few notes on this code\n",
        "\n",
        "\n",
        "1. From the previous steps, you can see that we only write the M(ox) modification to the DeepMass input file, but not C(ca). And the reason is that DeepMass trained on data in which cysteine ​​was always modified (we said it was fixed modification) and the model always perceives C as a modified version of cysteine. However, when reading the output, I would like to suggest replacing C with C(ca) to avoid any confusion later on.\n",
        "2. It turns out that DeepMass, in the output, shows fragments of y- and b-ions, consisting of all the amino acids of the peptide (full length peptide), and indicates their intensity as zero. Indeed, such ions are usually not visible in the spectrum at all due to the high fragmentation efficiency. But for the sake of simplicity of the subsequent de novo algorithm, I replaced the zero intensities of these fragments with the minimum non-zero predicted intensity in the entire spectrum. From another point of view, we can get this mass from the first MS, so non-zero value for those ions is a pretty justified step."
      ]
    },
    {
      "cell_type": "code",
      "metadata": {
        "id": "qRoIMgijcawJ"
      },
      "source": [
        "def read_deepmass_output(gz_file, max=sys.maxsize):\n",
        "    \"\"\" Read output data from DeepMass\n",
        "    :param gz_file: \n",
        "    :param max: maximum spectrum to read\n",
        "    :return: dictionary peptide_sequence -> spectrum\n",
        "    \"\"\"\n",
        "    peptide2spectrum = {}\n",
        "    with gzip.open(gz_file, 'rt') as stream:\n",
        "        header = stream.readline().rstrip().split('\\t')\n",
        "        modseq_ind = header.index(\"ModifiedSequence\")\n",
        "        fragments_intensity_ind = header.index(\"FragmentIntensities\")\n",
        "        fragments_ions_ind = header.index(\"FragmentIons\")\n",
        "        fragments_mz_ind = header.index(\"FragmentMZs\")\n",
        "        n = 0\n",
        "        for line in stream:\n",
        "            n += 1\n",
        "            if n > max:\n",
        "                break\n",
        "            splt = line.rstrip().split('\\t')\n",
        "            peptide2spectrum[splt[modseq_ind]] = \\\n",
        "                Spectrum(\n",
        "                    splt[modseq_ind].replace(\"C\", \"C(ca)\"), # note1\n",
        "                    [Fragment(float(mz), float(intensity), ion_types[0], int(ion_types.split('_')[0][1:]))\n",
        "                     for mz, intensity, ion_types in zip(splt[fragments_mz_ind].split(';'),\n",
        "                                                         splt[fragments_intensity_ind].split(';'),\n",
        "                                                         splt[fragments_ions_ind].split(';'))\n",
        "                     ]\n",
        "                )\n",
        "            # note2\n",
        "            bfragments = sorted([f for f in peptide2spectrum[splt[modseq_ind]].fragments if f.ion_type == 'b'],\n",
        "                                key=lambda x: x.mz)\n",
        "            bfragments[-1].intensity = min([f.intensity for f in bfragments if f.intensity != 0])\n",
        "            yfragments = sorted([f for f in peptide2spectrum[splt[modseq_ind]].fragments if f.ion_type == 'y'],\n",
        "                                key=lambda x: x.mz)\n",
        "            yfragments[-1].intensity = min([f.intensity for f in yfragments if f.intensity != 0])\n",
        "\n",
        "    return peptide2spectrum"
      ],
      "execution_count": null,
      "outputs": []
    },
    {
      "cell_type": "markdown",
      "metadata": {
        "id": "EQJc7quHj9LE"
      },
      "source": [
        "Now to the point - let's read the results for the CID fragmentation."
      ]
    },
    {
      "cell_type": "code",
      "metadata": {
        "id": "_ii6sx6Wj9Sz"
      },
      "source": [
        "cid = read_deepmass_output(\"english_peptides.2.cid.outputs.tsv.gz\")\n",
        "hcd = read_deepmass_output(\"english_peptides.2.hcd.outputs.tsv.gz\")"
      ],
      "execution_count": null,
      "outputs": []
    },
    {
      "cell_type": "markdown",
      "metadata": {
        "id": "IPO5ZVMmo2F1"
      },
      "source": [
        "Consider the peptide \"AMSTERDAMERR\"."
      ]
    },
    {
      "cell_type": "code",
      "metadata": {
        "id": "oq7dmF5ro1OR"
      },
      "source": [
        "cid['AMSTERDAMERR'].plot()"
      ],
      "execution_count": null,
      "outputs": []
    },
    {
      "cell_type": "markdown",
      "metadata": {
        "id": "CQY9OLkeA_UM"
      },
      "source": [
        "The topmost graph shows all the possible prefixes for a given peptide. Lines are of two types: a dashed line - DeepMass predicted an intensity of 0 for this fragment - and a solid line - DeepMass predicted a non-zero intensity. That is, a graph of all kinds of prefixes.\n",
        "\n",
        "The graph below is all kinds of suffixes, otherwise y-ions.\n",
        "\n",
        "And the last graph shows the spectrum of the peptide with intensity along the OY axis."
      ]
    },
    {
      "cell_type": "code",
      "metadata": {
        "id": "2E1znwOomu-w"
      },
      "source": [
        "cid['AMSTERDAM(ox)ERR'].plot()"
      ],
      "execution_count": null,
      "outputs": []
    },
    {
      "cell_type": "markdown",
      "metadata": {
        "id": "TpBZz1lXrpTE"
      },
      "source": [
        "**Question 2** - in the [google.form](https://forms.gle/nTKosK3dUiK2terx9)"
      ]
    },
    {
      "cell_type": "markdown",
      "metadata": {
        "id": "aHMKcCYHs93z"
      },
      "source": [
        "And here's an interesting question - how much does the *AMSTERDAMERR* spectrum obtained using CID fragmentation differ from the spectrum obtained using HCD?\n",
        "\n",
        "As we can see, the spectra are very similar - the most high-intensity fragments appear in one and the other cases."
      ]
    },
    {
      "cell_type": "code",
      "metadata": {
        "id": "SRcJoJRltCej"
      },
      "source": [
        "hcd['AMSTERDAMERR'].plot()"
      ],
      "execution_count": null,
      "outputs": []
    },
    {
      "cell_type": "markdown",
      "metadata": {
        "id": "nhry8lmJupT9"
      },
      "source": [
        "Such spectra are rather idealized, because there is noticeable noise in the experimental spectrum.\n",
        "\n",
        "Let's try to add noise to the *AMSTERDAMERR* spectrum. The *noise_factor* parameter affects the number of noisy fragments, and *percentile* - the intensity of such fragments."
      ]
    },
    {
      "cell_type": "code",
      "metadata": {
        "id": "QEPJgb4cuKYg",
        "colab": {
          "base_uri": "https://localhost:8080/",
          "height": 181
        },
        "outputId": "89578065-5247-43bf-f24d-9829443d077c"
      },
      "source": [
        "noisy_spectrum = cid['AMSTERDAMERR'].add_noise(noise_factor=10, percentile=0.5)\n",
        "noisy_spectrum.plot()"
      ],
      "execution_count": 66,
      "outputs": [
        {
          "output_type": "error",
          "ename": "AttributeError",
          "evalue": "ignored",
          "traceback": [
            "\u001b[0;31m---------------------------------------------------------------------------\u001b[0m",
            "\u001b[0;31mAttributeError\u001b[0m                            Traceback (most recent call last)",
            "\u001b[0;32m<ipython-input-66-55976f98f671>\u001b[0m in \u001b[0;36m<module>\u001b[0;34m()\u001b[0m\n\u001b[1;32m      1\u001b[0m \u001b[0mnoisy_spectrum\u001b[0m \u001b[0;34m=\u001b[0m \u001b[0mcid\u001b[0m\u001b[0;34m[\u001b[0m\u001b[0;34m'AMSTERDAMERR'\u001b[0m\u001b[0;34m]\u001b[0m\u001b[0;34m.\u001b[0m\u001b[0madd_noise\u001b[0m\u001b[0;34m(\u001b[0m\u001b[0mnoise_factor\u001b[0m\u001b[0;34m=\u001b[0m\u001b[0;36m10\u001b[0m\u001b[0;34m,\u001b[0m \u001b[0mpercentile\u001b[0m\u001b[0;34m=\u001b[0m\u001b[0;36m0.5\u001b[0m\u001b[0;34m)\u001b[0m\u001b[0;34m\u001b[0m\u001b[0;34m\u001b[0m\u001b[0m\n\u001b[0;32m----> 2\u001b[0;31m \u001b[0mnoisy_spectrum\u001b[0m\u001b[0;34m.\u001b[0m\u001b[0mplot\u001b[0m\u001b[0;34m(\u001b[0m\u001b[0;34m)\u001b[0m\u001b[0;34m\u001b[0m\u001b[0;34m\u001b[0m\u001b[0m\n\u001b[0m",
            "\u001b[0;31mAttributeError\u001b[0m: 'NoneType' object has no attribute 'plot'"
          ]
        }
      ]
    },
    {
      "cell_type": "markdown",
      "metadata": {
        "id": "Gc9BrJQ1v8ur"
      },
      "source": [
        "\n",
        "\n",
        "---\n",
        "\n"
      ]
    },
    {
      "cell_type": "markdown",
      "metadata": {
        "id": "BwGrmPDFwAbd"
      },
      "source": [
        "**Part 3. De novo algorithm**\n",
        "\n",
        "The task of identifying MS2 is to decipher the unlabeled spectrum, so we need to find which particular peptide could generate such a spectrum.\n",
        "![image.png](data:image/png;base64,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)\n"
      ]
    },
    {
      "cell_type": "markdown",
      "metadata": {
        "id": "acDgvND-z1Sk"
      },
      "source": [
        "There are two ways to solve this problem.\n",
        "\n",
        "\n",
        "* de novo peptide assembly algorithm - we only know the masses of amino acids and try to find the sequence of the original peptide using them\n",
        "* search in the reference database - we know the reference proteome of the investigated object, create a database of theoretical spectra (human cell line etc.), and for each experimental spectrum we try to find the most similar theoretical reference spectrum.\n",
        "\n",
        "An obvious analogy from the NGS world, and this parallel is not accidental. Continuing the analogy, the more common naming of bottom-up proteomics (we cut proteins into peptides and analyze them) is [shotgun proteomics](https://en.wikipedia.org/wiki/Shotgun_proteomics).\n",
        "\n",
        "In L4 we are going to discuss the second method, but now - *de novo*."
      ]
    },
    {
      "cell_type": "markdown",
      "metadata": {
        "id": "BV3r8B2O1gGU"
      },
      "source": [
        "Let's create several auxiliary dictionaries and functions that will allow us to quickly find the masses of fragments."
      ]
    },
    {
      "cell_type": "code",
      "metadata": {
        "id": "pQmnz7EE10FM"
      },
      "source": [
        "aa2mass = {aa: (get_mass_mol_formula(formula) - 2 * atom2mass['H'] - atom2mass['O']) for aa, formula in\n",
        "           aa2formula.items()}\n",
        "aa_yions_terminal2mass = {aa: (mass + 3 * atom2mass['H'] + atom2mass['O']) for aa, mass in aa2mass.items()}\n",
        "aa_bions_terminal2mass = {aa: (mass + atom2mass['H']) for aa, mass in aa2mass.items()}\n",
        "\n",
        "\n",
        "def get_masses_yb_ions(mod_sequence):\n",
        "    mod_aas = re.findall(r'(\\w(?:\\(\\w+\\))?)', mod_sequence)\n",
        "    y_ions = [aa_yions_terminal2mass[mod_aas[len(mod_aas) - 1]]]\n",
        "    for i in reversed(range(0, len(mod_aas) - 1)):\n",
        "        y_ions.append(y_ions[len(y_ions) - 1] + aa2mass[mod_aas[i]])\n",
        "    b_ions = [aa_bions_terminal2mass[mod_aas[0]]]\n",
        "    for i in range(1, len(mod_aas)):\n",
        "        b_ions.append(b_ions[i - 1] + aa2mass[mod_aas[i]])\n",
        "    return y_ions, b_ions"
      ],
      "execution_count": null,
      "outputs": []
    },
    {
      "cell_type": "markdown",
      "metadata": {
        "id": "FVXcy_LT16Zb"
      },
      "source": [
        "Let's check that we are correctly finding y- and b-ions for the peptide [GLSDGEWQQVLNVWGK](http://db.systemsbiology.net:8080/proteomicsToolkit/FragIonServlet?sequence=GLSDGEWQQVLNVWGK&massType=monoRB&charge=1&bCB=1&yCB=1&nterm=0.0&cterm=0.0&addModifType=&addModifVal=)"
      ]
    },
    {
      "cell_type": "code",
      "metadata": {
        "id": "-5JXkrxg12R0"
      },
      "source": [
        "y_ions, b_ions = get_masses_yb_ions(\"GLSDGEWQQVLNVWGK\")\n",
        "y_exp_ions, b_exp_ions = \\\n",
        "    [147.113, 204.135, 390.214, 489.283, 603.325, 716.41, 815.478, 943.537, 1071.595, 1257.674, 1386.717, 1443.738,\n",
        "     1558.765, 1645.797, 1758.882, 1815.903], \\\n",
        "    [58.029, 171.113, 258.145, 373.172, 430.194, 559.236, 745.316, 873.374, 1001.433, 1100.501, 1213.585, 1327.628,\n",
        "     1426.697, 1612.776, 1669.797, 1797.892]\n",
        "assert len(y_ions) == len(b_ions) == len(y_exp_ions) == len(b_exp_ions), \"Test get_masses_yb_ions: different length \" \\\n",
        "                                                                         \"of arrays \"\n",
        "for i in range(len(y_ions)):\n",
        "    assert round(y_ions[i], 3) == y_exp_ions[i], \\\n",
        "        \"Test get_masses_yb_ions: expecting to see another mass for y{}-ion - expect {} but got {}\". \\\n",
        "            format(i + 1, y_exp_ions[i], round(y_ions[i], 3))\n",
        "    assert round(b_ions[i], 3) == b_exp_ions[i], \\\n",
        "        \"Test get_masses_yb_ions: expecting to see another mass for b{}-ion - expect {} but got {}\". \\\n",
        "            format(i + 1, b_exp_ions[i], round(b_ions[i], 3))"
      ],
      "execution_count": null,
      "outputs": []
    },
    {
      "cell_type": "markdown",
      "metadata": {
        "id": "6MlmI-pe3Txc"
      },
      "source": [
        "There are many algorithms for solving the de novo MS2 identification problem, but here we will analyze an extremely simple algorithm.\n",
        "\n",
        "The *de_novo_algo* function receives three parameters as input\n",
        "\n",
        "\n",
        "* *mzs*: array of masses of fragments\n",
        "* *intensities*: array of fragment intensities\n",
        "* *tolerance*: maximum mass difference between the expected peak (mass of the experimental fragment minus the mass of the amino acid) and the experimental peak. A little further, this wording will become clear.\n",
        "\n",
        "In the first step, we select the most intense fragment, and then we try to find the fragment to the left of this peak (in the region of low masses) so that the difference between them is equal to the mass of some amino acid with an acceptable error (*tolerance*). Then the same process is repeated to the right (into the area of ​​large masses). Finding this and subsequent amino acids is an iterative identification of the spectrum."
      ]
    },
    {
      "cell_type": "code",
      "metadata": {
        "id": "rTk9pbZy3T-F"
      },
      "source": [
        "def de_novo_algo_find_match_left(mzs, ind, aa_mass, tolerance):\n",
        "    exp_mass = mzs[ind] - aa_mass\n",
        "    j = 1\n",
        "    while ind - j >= 0 and exp_mass - mzs[ind - j] < tolerance:\n",
        "        if abs(exp_mass - mzs[ind - j]) < tolerance:\n",
        "            break\n",
        "        j += 1\n",
        "    if ind - j < 0 or exp_mass - mzs[ind - j] >= tolerance:\n",
        "        return -1\n",
        "    return ind - j\n",
        "\n",
        "\n",
        "def de_novo_algo_find_match_right(mzs, ind, aa_mass, tolerance):\n",
        "    exp_mass = mzs[ind] + aa_mass\n",
        "    j = 1\n",
        "    while ind + j < len(mzs) and exp_mass - mzs[ind + j] > -tolerance:\n",
        "        if abs(exp_mass - mzs[ind + j]) < tolerance:\n",
        "            break\n",
        "        j += 1\n",
        "    if ind + j >= len(mzs) or exp_mass - mzs[ind + j] <= -tolerance:\n",
        "        return -1\n",
        "    return ind + j\n",
        "\n",
        "\n",
        "def de_novo_algo_impl(mzs, ind, tolerance, find_match_func):\n",
        "    for aa, mass in aa2mass.items():\n",
        "        ind_match = find_match_func(mzs, ind, mass, tolerance)\n",
        "        if ind_match != -1:\n",
        "            return aa, ind_match\n",
        "    return '', -1\n",
        "\n",
        "\n",
        "def de_novo_algo(mzs, intensities, tolerance=0.05):\n",
        "    \"\"\"\n",
        "\n",
        "    :param mzs:\n",
        "    :param intensities:\n",
        "    :param tolerance:\n",
        "    :return: the best fitted peptide sequence for the spectrum\n",
        "    \"\"\"\n",
        "    yb_series = None\n",
        "    # max intensity fragment is suffix or prefix? - we don't know yet\n",
        "    ind_max = intensities.index(max(intensities))\n",
        "    # going to small masses - left\n",
        "    predicted_sequence = collections.deque([])\n",
        "    i = ind_max\n",
        "    while True:\n",
        "        aa_pred, ind_pred = de_novo_algo_impl(mzs, i, tolerance, de_novo_algo_find_match_left)\n",
        "        if aa_pred != '':\n",
        "            predicted_sequence.appendleft(aa_pred)\n",
        "            i = ind_pred\n",
        "        else:\n",
        "            for aa, mass in aa_yions_terminal2mass.items():\n",
        "                if abs(mzs[i] - mass) < tolerance:\n",
        "                    predicted_sequence.appendleft(aa)\n",
        "                    yb_series = 'y'\n",
        "                    break\n",
        "            for aa, mass in aa_bions_terminal2mass.items():\n",
        "                if abs(mzs[i] - mass) < tolerance:\n",
        "                    predicted_sequence.appendleft(aa)\n",
        "                    yb_series = 'b'\n",
        "                    break\n",
        "            break\n",
        "    i = ind_max\n",
        "    while True:\n",
        "        aa_pred, ind_pred = de_novo_algo_impl(mzs, i, tolerance, de_novo_algo_find_match_right)\n",
        "        if aa_pred != '':\n",
        "            predicted_sequence.append(aa_pred)\n",
        "            i = ind_pred\n",
        "        else:\n",
        "            break\n",
        "\n",
        "    if yb_series == 'y':\n",
        "        return \"\".join(reversed(list(predicted_sequence))) #because suffixes should reversed\n",
        "    elif yb_series == 'b':\n",
        "        return \"\".join(list(predicted_sequence))\n",
        "    return \"\""
      ],
      "execution_count": 68,
      "outputs": []
    },
    {
      "cell_type": "markdown",
      "metadata": {
        "id": "zGUsJlFI3Vs0"
      },
      "source": [
        "Let's try to run this function using the peptide *AMSTERDAMERR* as an example"
      ]
    },
    {
      "cell_type": "code",
      "metadata": {
        "id": "UbO8b8adExbR",
        "colab": {
          "base_uri": "https://localhost:8080/",
          "height": 330
        },
        "outputId": "d67e6a85-27bd-451d-c4ce-eaf948d43168"
      },
      "source": [
        "spectrum = cid['AMSTERDAMERR']\n",
        "spectrum.plot()\n",
        "#for f in spectrum.fragments:\n",
        "  #print (f.intensity)\n",
        "mzs = [f.mz for f in spectrum.fragments if f.intensity != 0.0]\n",
        "intensities = [f.intensity for f in spectrum.fragments if f.intensity != 0.0]\n",
        "print(de_novo_algo(mzs, intensities, tolerance=0.029))"
      ],
      "execution_count": 95,
      "outputs": [
        {
          "output_type": "display_data",
          "data": {
            "image/png": "[encoded data removed]",
            "text/plain": [
              "<Figure size 432x288 with 4 Axes>"
            ]
          },
          "metadata": {
            "needs_background": "light"
          }
        },
        {
          "output_type": "stream",
          "name": "stdout",
          "text": [
            "RREMADRETDR\n"
          ]
        }
      ]
    },
    {
      "cell_type": "markdown",
      "metadata": {
        "id": "H54HtKrQF4LP"
      },
      "source": [
        "Not very good at it.\n",
        "\n",
        "Let's try the peptide *MADDENINGNESSR*"
      ]
    },
    {
      "cell_type": "code",
      "metadata": {
        "id": "ipkze7DXF4Q-",
        "colab": {
          "base_uri": "https://localhost:8080/",
          "height": 806
        },
        "outputId": "a6d0ae9c-8042-4637-b56c-5310e3f9030c"
      },
      "source": [
        "spectrum = cid['MADDENINGNESSR']\n",
        "spectrum.plot()\n",
        "for f in spectrum.fragments:\n",
        "  print (f.intensity)\n",
        "mzs = [f.mz for f in spectrum.fragments if f.intensity != 0.0]\n",
        "intensities = [f.intensity for f in spectrum.fragments if f.intensity != 0.0]\n",
        "print(de_novo_algo(mzs, intensities, tolerance=0.03))"
      ],
      "execution_count": 84,
      "outputs": [
        {
          "output_type": "display_data",
          "data": {
            "image/png": "[encoded data removed]",
            "text/plain": [
              "<Figure size 432x288 with 4 Axes>"
            ]
          },
          "metadata": {
            "needs_background": "light"
          }
        },
        {
          "output_type": "stream",
          "name": "stdout",
          "text": [
            "0.0\n",
            "262.215642244\n",
            "622.302363427\n",
            "723.185566558\n",
            "631.391186194\n",
            "1763.04596495\n",
            "863.386986008\n",
            "1160.62525205\n",
            "668.212396225\n",
            "1107.6798751\n",
            "4831.1546655\n",
            "691.07249511\n",
            "7794.9367249\n",
            "1124.48308759\n",
            "2752.96784459\n",
            "565.990275242\n",
            "241.346018555\n",
            "3373.1082635\n",
            "343.315294961\n",
            "1573.27683832\n",
            "514.529578464\n",
            "1136.99407764\n",
            "298.234127104\n",
            "888.353280296\n",
            "197.35447045\n",
            "192.970002758\n",
            "197.35447045\n",
            "192.970002758\n",
            "MADDENINGNESSR\n"
          ]
        }
      ]
    },
    {
      "cell_type": "markdown",
      "metadata": {
        "id": "1d7rPdNNHQ7Z"
      },
      "source": [
        "As you can see, this algorithm was able to correctly interpret the spectrum. But the main reason why the algorithm was able to determine the *MADDENINGNESSR* peptide, but not *AMSTERDAMERR*, is that it is critically important for our implementation that all suffixes or prefixes (depending on the type of the maximum in intensity fragment) appear on the spectrum - in the case of *AMSTERDAMERR* there is no elementary prefix *A*, and the maximum peak is precisely the prefix. The *MADDENINGNESSR* peptide has the most intense fragment of the number of suffixes, and in this series all fragments are represented in the spectrum."
      ]
    },
    {
      "cell_type": "markdown",
      "metadata": {
        "id": "adpk-BIYJo3J"
      },
      "source": [
        "**Question 3** - in the [google.form](https://forms.gle/nTKosK3dUiK2terx9)"
      ]
    },
    {
      "cell_type": "markdown",
      "metadata": {
        "id": "BJgnfiQ12741"
      },
      "source": [
        ""
      ]
    },
    {
      "cell_type": "code",
      "metadata": {
        "id": "M3I26pnE28bv"
      },
      "source": [
        "def de_novo_algo2(mzs, intensities, tolerance=0.05):\n",
        "    \"\"\"\n",
        "\n",
        "    :param mzs:\n",
        "    :param intensities:\n",
        "    :param tolerance:\n",
        "    :return: the best fitted peptide sequence for the spectrum\n",
        "    \"\"\"\n",
        "    yb_series = None\n",
        "    # max intensity fragment is suffix or prefix? - we don't know yet\n",
        "    ind_max = intensities.index(max(intensities))\n",
        "    # going to small masses - left\n",
        "    predicted_sequence = collections.deque([])\n",
        "    i = ind_max\n",
        "    while True:\n",
        "        aa_pred, ind_pred = de_novo_algo_impl(mzs, i, tolerance, de_novo_algo_find_match_left)\n",
        "        if aa_pred != '':\n",
        "            predicted_sequence.appendleft(aa_pred)\n",
        "            i = ind_pred\n",
        "        else:\n",
        "            for aa, mass in aa_yions_terminal2mass.items():\n",
        "                if abs(mzs[i] - mass) < tolerance:\n",
        "                    predicted_sequence.appendleft(aa)\n",
        "                    yb_series = 'y'\n",
        "                    break\n",
        "            for aa, mass in aa_bions_terminal2mass.items():\n",
        "                if abs(mzs[i] - mass) < tolerance:\n",
        "                    predicted_sequence.appendleft(aa)\n",
        "                    yb_series = 'b'\n",
        "                    break\n",
        "            break\n",
        "    i = ind_max\n",
        "    while True:\n",
        "        aa_pred, ind_pred = de_novo_algo_impl(mzs, i, tolerance, de_novo_algo_find_match_right)\n",
        "        if aa_pred != '':\n",
        "            predicted_sequence.append(aa_pred)\n",
        "            i = ind_pred\n",
        "        else:\n",
        "            break\n",
        "\n",
        "    if yb_series == 'y':\n",
        "        return \"\".join(reversed(list(predicted_sequence))) #because suffixes should reversed\n",
        "    elif yb_series == 'b':\n",
        "        return \"\".join(list(predicted_sequence))\n",
        "    return \"\""
      ],
      "execution_count": null,
      "outputs": []
    },
    {
      "cell_type": "markdown",
      "metadata": {
        "id": "6L4JsIv4HRD-"
      },
      "source": [
        "Let's try to globally evaluate the accuracy of the algorithm for different values of *tolerance* and *noise_factor*. Which means, we modulate the sensitivity of the algorithm and the amount of noise. In other words, we analyze de novo all spectra and compare prediction with expectation. This gives us the percentage of correctly identified spectra."
      ]
    },
    {
      "cell_type": "code",
      "metadata": {
        "id": "BmbgqxLD3uyw"
      },
      "source": [
        "tolerance_range = [0.5, 0.2, 0.1, 0.05, 0.02, 0.01, 0.005, 0.002, 0.001]\n",
        "noise_factor_range = [0.0, 0.1, 0.5, 1.0, 1.5, 2.0, 5.0, 10.0, 15.0]"
      ],
      "execution_count": 74,
      "outputs": []
    },
    {
      "cell_type": "code",
      "metadata": {
        "id": "9UTzzImZ9LAW"
      },
      "source": [
        "def get_correctness_matrix(spectrums, tolerance_range, noise_factor_range, add_mz_noise=False, num_subset=1000):\n",
        "    correctness = np.empty(shape=(len(tolerance_range), len(noise_factor_range)))\n",
        "    for ind_t in range(len(tolerance_range)):\n",
        "        for ind_n in range(len(noise_factor_range)):\n",
        "            correct = 0\n",
        "            cnt = 0\n",
        "            for spectrum in random.choices(spectrums, k=num_subset): # to speed it up\n",
        "                new_spectrum = spectrum.add_noise(noise_factor_range[ind_n])\n",
        "                mzs = [f.mz for f in new_spectrum.fragments if f.intensity != 0.0]\n",
        "                intensities = [f.intensity for f in new_spectrum.fragments if f.intensity != 0.0]\n",
        "                if add_mz_noise:\n",
        "                    np.random.seed(abs(hash(spectrum.mod_sequence)) % (2 ** 32))\n",
        "                    mzs = [abs(x + y) for x, y in zip(np.random.normal(0, 0.001, len(mzs)), mzs)]\n",
        "                result = de_novo_algo(mzs, intensities, tolerance_range[ind_t])\n",
        "                if result.replace('I', 'L') == spectrum.mod_sequence.replace('I', 'L'):\n",
        "                    correct += 1\n",
        "                cnt += 1\n",
        "            correctness[ind_t, ind_n] = correct / cnt\n",
        "\n",
        "    return pd.DataFrame(correctness, columns=noise_factor_range, index=tolerance_range)"
      ],
      "execution_count": 75,
      "outputs": []
    },
    {
      "cell_type": "markdown",
      "metadata": {
        "id": "ApRye4nd2UhC"
      },
      "source": [
        "**Question 4** - in the [google.form](https://forms.gle/nTKosK3dUiK2terx9)"
      ]
    },
    {
      "cell_type": "markdown",
      "metadata": {
        "id": "-TQN283E7S-g"
      },
      "source": [
        "This calculation will take some time - 1-2 minutes."
      ]
    },
    {
      "cell_type": "code",
      "metadata": {
        "id": "ufe9VeNz-MFh"
      },
      "source": [
        "correctness_df = get_correctness_matrix(list(cid.values()), tolerance_range, noise_factor_range)"
      ],
      "execution_count": null,
      "outputs": []
    },
    {
      "cell_type": "markdown",
      "metadata": {
        "id": "kx05XLii22GU"
      },
      "source": [
        "And it remains to render our correctness matrix in the form of a heatmap."
      ]
    },
    {
      "cell_type": "code",
      "metadata": {
        "id": "ZOQohEVW5cXj"
      },
      "source": [
        "ax = sns.heatmap(correctness_df, annot=True)\n",
        "bottom, top = ax.get_ylim()\n",
        "ax.set_ylim(bottom + 0.5, top - 0.5)\n",
        "plt.xlabel(\"Noise factor\")\n",
        "plt.ylabel(\"Match tolerance\")\n",
        "plt.show()"
      ],
      "execution_count": null,
      "outputs": []
    },
    {
      "cell_type": "markdown",
      "metadata": {
        "id": "0L7OmQJ4JM_f"
      },
      "source": [
        "But we need to imagine that for real data the peaks of the fragments have a normal distribution, and as a result, we can only find the real mass with some error.\n",
        "\n",
        "You can simulate this by adding some random normal noise to the masses of the fragments."
      ]
    },
    {
      "cell_type": "code",
      "metadata": {
        "id": "_4nYROE-3HGm"
      },
      "source": [
        "correctness_mz_noise_df = get_correctness_matrix(list(cid.values()), tolerance_range, noise_factor_range, True)"
      ],
      "execution_count": null,
      "outputs": []
    },
    {
      "cell_type": "markdown",
      "metadata": {
        "id": "eYnKgOYf3_hM"
      },
      "source": [
        "And of course the results will change."
      ]
    },
    {
      "cell_type": "code",
      "metadata": {
        "id": "KcdyOybW5lrO"
      },
      "source": [
        "ax = sns.heatmap(correctness_mz_noise_df, annot=True)\n",
        "bottom, top = ax.get_ylim()\n",
        "ax.set_ylim(bottom + 0.5, top - 0.5)\n",
        "plt.xlabel(\"Noise factor\")\n",
        "plt.ylabel(\"Match tolerance\")\n",
        "plt.show()"
      ],
      "execution_count": null,
      "outputs": []
    },
    {
      "cell_type": "markdown",
      "metadata": {
        "id": "pHCHp6JzIoRM"
      },
      "source": [
        "**Question 5** - in the [google.form](https://forms.gle/nTKosK3dUiK2terx9)\n",
        "\n"
      ]
    }
  ]
}