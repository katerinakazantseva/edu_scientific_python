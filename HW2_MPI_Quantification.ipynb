{
  "nbformat": 4,
  "nbformat_minor": 0,
  "metadata": {
    "colab": {
      "name": "HW2.MPI.Quantification.ipynb",
      "provenance": [],
      "collapsed_sections": [],
      "include_colab_link": true
    },
    "kernelspec": {
      "name": "python3",
      "display_name": "Python 3"
    }
  },
  "cells": [
    {
      "cell_type": "markdown",
      "metadata": {
        "id": "view-in-github",
        "colab_type": "text"
      },
      "source": [
        "<a href=\"https://colab.research.google.com/github/katerinakazantseva/scientific_python/blob/master/HW2_MPI_Quantification.ipynb\" target=\"_parent\"><img src=\"https://colab.research.google.com/assets/colab-badge.svg\" alt=\"Open In Colab\"/></a>"
      ]
    },
    {
      "cell_type": "markdown",
      "metadata": {
        "id": "dEKMBV0LqQBe"
      },
      "source": [
        "###Hi everybody!###\n",
        "\n"
      ]
    },
    {
      "cell_type": "markdown",
      "metadata": {
        "id": "DtQnB3IRy7RI"
      },
      "source": [
        "Today we are going to simulate the first MS spectrum for any predetermined peptide with a specific charge.\n",
        "\n",
        "Looking ahead, I can say that our code will allow us to analyze not only the behavior of peptides, but also we will be able to simulate the results for Top-Down proteomics. And this is already quite serious!\n",
        "\n",
        "[Link](https://forms.gle/qSLAAbsb68sWkaM86) to the google.form for answering questions.\n",
        "\n",
        "The program code is located here.\n",
        "\n",
        "Maximum grade: 15 scores"
      ]
    },
    {
      "cell_type": "markdown",
      "metadata": {
        "id": "oULOaF-321qt"
      },
      "source": [
        "\n",
        "\n",
        "---\n",
        "\n"
      ]
    },
    {
      "cell_type": "code",
      "metadata": {
        "id": "yggGfexjqLZj"
      },
      "source": [
        "import math\n",
        "import random\n",
        "import numpy as np\n",
        "import matplotlib.pyplot as plt\n",
        "\n",
        "from scipy.stats import norm"
      ],
      "execution_count": 1,
      "outputs": []
    },
    {
      "cell_type": "markdown",
      "metadata": {
        "id": "XIz9200Atz8U"
      },
      "source": [
        "First of all, let's make a dictionary that will allow us to determine molecular formulas by the one-letter representation of amino acids. Note that hydrated molecular formulas are presented here.\n",
        "\n",
        "Fill out the information about methionine and tryptophan."
      ]
    },
    {
      "cell_type": "code",
      "metadata": {
        "id": "WcQcvtFGxY8D"
      },
      "source": [
        "aa2formula = {\n",
        "    'A': {'C': 3, 'H': 7, 'N': 1, 'O': 2},\n",
        "    'R': {'C': 6, 'H': 14, 'N': 4, 'O': 2},\n",
        "    'N': {'C': 4, 'H': 8, 'N': 2, 'O': 3},\n",
        "    'D': {'C': 4, 'H': 7, 'N': 1, 'O': 4},\n",
        "    'C': {'C': 3, 'H': 7, 'N': 1, 'O': 2, 'S': 1},\n",
        "    'Q': {'C': 5, 'H': 10, 'N': 2, 'O': 3},\n",
        "    'E': {'C': 5, 'H': 9, 'N': 1, 'O': 4},\n",
        "    'G': {'C': 2, 'H': 5, 'N': 1, 'O': 2},\n",
        "    'H': {'C': 6, 'H': 9, 'N': 3, 'O': 2},\n",
        "    'I': {'C': 6, 'H': 13, 'N': 1, 'O': 2},\n",
        "    'L': {'C': 6, 'H': 13, 'N': 1, 'O': 2},\n",
        "    'K': {'C': 6, 'H': 14, 'N': 2, 'O': 2},\n",
        "    'M': {'C': 5, 'H': 11, 'N': 1, 'O': 2, 'S': 1},\n",
        "    'F': {'C': 9, 'H': 11, 'N': 1, 'O': 2},\n",
        "    'P': {'C': 5, 'H': 9, 'N': 1, 'O': 2},\n",
        "    'S': {'C': 3, 'H': 7, 'N': 1, 'O': 3},\n",
        "    'T': {'C': 4, 'H': 9, 'N': 1, 'O': 3},\n",
        "    'W': {'C': 11, 'H': 12, 'N': 2, 'O': 2}, \n",
        "    'Y': {'C': 9, 'H': 11, 'N': 1, 'O': 3},\n",
        "    'V': {'C': 5, 'H': 11, 'N': 1, 'O': 2},\n",
        "}"
      ],
      "execution_count": 2,
      "outputs": []
    },
    {
      "cell_type": "markdown",
      "metadata": {
        "id": "R8JdL9INym8V"
      },
      "source": [
        "Next, let's write a function that returns the molecular formula (dictionary like `atom` -> `count`) from the amino acid sequence.\n",
        "\n",
        "Note that we are subtracting a certain amount of hydrogen and oxygen from the formula, because in the protein synthesis reaction, one molecule of water is released for each amino acid addition."
      ]
    },
    {
      "cell_type": "code",
      "metadata": {
        "id": "WT1EkL3vzfLP"
      },
      "source": [
        "def get_mol_formula(seq):\n",
        "    formula = {'C': 0, 'H': 0, 'N': 0, 'O': 0, 'S': 0}\n",
        "    for i in seq:\n",
        "      for j in ['C', 'H', 'N', 'O','S']:\n",
        "        try:\n",
        "         formula[j]=formula[j]+aa2formula[i][j]\n",
        "        except: pass\n",
        "    formula['H']=formula['H']-(len(seq)-1)*2\n",
        "    formula['O']=formula['O']-(len(seq)-1)\n",
        "    return formula\n",
        "\n",
        "\n"
      ],
      "execution_count": 73,
      "outputs": []
    },
    {
      "cell_type": "code",
      "metadata": {
        "colab": {
          "base_uri": "https://localhost:8080/"
        },
        "id": "rLqW_U4tTp30",
        "outputId": "1110db81-b048-47cf-af0f-8211c6289191"
      },
      "source": [
        "get_mol_formula('MFV')"
      ],
      "execution_count": 74,
      "outputs": [
        {
          "output_type": "execute_result",
          "data": {
            "text/plain": [
              "{'C': 19, 'H': 29, 'N': 3, 'O': 4, 'S': 1}"
            ]
          },
          "metadata": {},
          "execution_count": 74
        }
      ]
    },
    {
      "cell_type": "markdown",
      "metadata": {
        "id": "Qzk4dcaW18xY"
      },
      "source": [
        "Amino acids are made up of carbon, hydrogen, oxygen, nitrogen, and sulfur atoms. You can ask about phosphorus - for example, phosphorylation - but we will not consider such cases.\n",
        "\n",
        "Let's create a dictionary that contains information about the masses of isotopes of the listed atoms ([Relative Atomic Mass](https://www.nist.gov/pml/atomic-weights-and-isotopic-compositions-column-descriptions#relative)) and their occurrence ([Representative Isotopic Composition](https://www.nist.gov/pml/atomic-weights-and-isotopic-compositions-column-descriptions#comp)). A list of lists consisting of two values - mass and occurrence.\n",
        "\n",
        "For our task, it is important to indicate a very precise value of the mass of isotopes. The occurrence should be reported as a cumulative distribution function.\n",
        "\n",
        "Specify values for oxygen and nitrogen.\n",
        "\n",
        "This [link](https://physics.nist.gov/cgi-bin/Compositions/stand_alone.pl) might be helpful. Use numbers from the table without rounding and without a period."
      ]
    },
    {
      "cell_type": "code",
      "metadata": {
        "id": "84s78SyL185t"
      },
      "source": [
        "atom2mass_comp = {\n",
        "    'C': [\n",
        "        [12.0,            0.9893],\n",
        "        [13.00335483507,  1.0]\n",
        "    ],\n",
        "    'H': [\n",
        "        [1.00782503223, 0.999885],\n",
        "        [2.01410177812, 1.0]\n",
        "    ],\n",
        "    'O': [\n",
        "         [ 15.99491461957,  0.99757],\n",
        "          [ 16.99913175650,  0.997944],\n",
        "        [17.99915961286,  1.0]\n",
        "    ],\n",
        "    'N': [\n",
        "         [ 14.00307400443,  0.99636],\n",
        "        [  15.00010889888,   1.0]\n",
        "    ],\n",
        "    'S': [\n",
        "        [31.9720711744, 0.9499],\n",
        "        [32.9714589098, 0.9574],\n",
        "        [33.967867004,  0.9999],\n",
        "        [35.96708071,   1.0]\n",
        "    ]\n",
        "}"
      ],
      "execution_count": 87,
      "outputs": []
    },
    {
      "cell_type": "markdown",
      "metadata": {
        "id": "83N2vOS-EcJW"
      },
      "source": [
        "As a check, let's run the following function, which calculates the mass and probability of a monoisotopic (i.e., sequence without isotopes) peptide *GNVEEQTDALTITHFK* with a charge of 1+."
      ]
    },
    {
      "cell_type": "code",
      "metadata": {
        "id": "RXe8xkm46rjZ"
      },
      "source": [
        "def get_mass_mol_formula(formula):\n",
        "    return sum([i * atom2mass_comp[atom][0][0] for atom, i in formula.items()])"
      ],
      "execution_count": 90,
      "outputs": []
    },
    {
      "cell_type": "code",
      "metadata": {
        "id": "OGTGDxjdDg6L",
        "colab": {
          "base_uri": "https://localhost:8080/"
        },
        "outputId": "0be2a298-ddea-4410-d589-14840ae30503"
      },
      "source": [
        "sequence = \"GNVEEQTDALTITHFK\"\n",
        "formula = get_mol_formula(sequence)\n",
        "print(formula)\n",
        "m = get_mass_mol_formula(get_mol_formula(sequence))\n",
        "p = np.prod([atom2mass_comp[atom][0][1] ** i for atom, i in formula.items()])\n",
        "print(\"mass: \", round(m, 3))\n",
        "print(\"prob: \", round(p, 3))\n",
        "assert (str(round(m, 3)) == \"1801.885\"), \"not correct mass\"\n",
        "assert (str(round(p, 3)) == \"0.369\"), \"not correct probability\""
      ],
      "execution_count": 91,
      "outputs": [
        {
          "output_type": "stream",
          "name": "stdout",
          "text": [
            "{'C': 78, 'H': 123, 'N': 21, 'O': 28, 'S': 0}\n",
            "mass:  1801.885\n",
            "prob:  0.369\n"
          ]
        }
      ]
    },
    {
      "cell_type": "markdown",
      "metadata": {
        "id": "5qNUTXESIaGr"
      },
      "source": [
        "That is, now we can calculate the mass of a monoisotopic peptide, but what if we want to calculate the mass of a peptide with a C13 isotope in a certain position or with several isotopes.\n",
        "\n",
        "For example, let's calculate the mass of a hypothetical peptide in which 1 out of 78 carbon atoms is an isotope C13, 2 out of 123 hydrogen are deuterium, etc.\n",
        "\n",
        "Let's write the corresponding function"
      ]
    },
    {
      "cell_type": "code",
      "metadata": {
        "id": "WZy6lJGWIqzz",
        "colab": {
          "base_uri": "https://localhost:8080/"
        },
        "outputId": "8cd56b20-addd-4725-d71d-b3f180ecdc92"
      },
      "source": [
        "def get_mass_isotopic_formula(isotopic_formula):\n",
        "    mass = 0.0\n",
        "    for atom, counts in isotopic_formula.items():\n",
        "        for i in range(len(counts)):\n",
        "            mass +=counts[i]*atom2mass_comp[atom][i][0]     \n",
        "    return mass\n",
        "\n",
        "isotopic_formula = {\n",
        "    'C': [77, 1], # 77 isotopes of С12 and 1 isotope of С13\n",
        "    'H': [121, 2],\n",
        "    'O': [26, 1, 1], # 26 isotopes of O16, 1 isotope of O17 и 1 isotope of O18\n",
        "    'N': [20, 1],\n",
        "    'S': [1, 0, 1, 0]\n",
        "}\n",
        "mass = get_mass_isotopic_formula(isotopic_formula)\n",
        "print(\"mass: \", round(mass, 3))\n",
        "assert (str(round(mass, 3)) == \"1874.846\"), \"not correct mass\""
      ],
      "execution_count": 103,
      "outputs": [
        {
          "output_type": "stream",
          "name": "stdout",
          "text": [
            "mass:  1874.846\n"
          ]
        }
      ]
    },
    {
      "cell_type": "markdown",
      "metadata": {
        "id": "VL2LqUTvT-hJ"
      },
      "source": [
        "Excellent! It remains to generate a large number of peptides with a certain sequence, but with a random distribution of isotopes in accordance with the probabilities from the *atom2mass_comp* dictionary. That is, we want to create a function that receives the peptide sequence, its charge and the number of molecules that we want to generate.\n",
        "\n",
        "This function then creates a *isotopic_formula*, which indicates the number of different isotopes, and finds the mass of such a molecule.\n",
        "\n",
        "We add the resulting mass and isotopic formula to the *mass2count* dictionary, in which we count how many times a given molecule has encountered a given mass. Then we return the resulting dictionary.\n",
        "\n",
        "Complete this code."
      ]
    },
    {
      "cell_type": "code",
      "metadata": {
        "id": "5PYF6ddgT9pR"
      },
      "source": [
        "def get_mass_counts(seq, charge, num_molecules=10000):\n",
        "    random.seed(12345)\n",
        "    mono_isotopic_formula = get_mol_formula(seq)\n",
        "    mass2count = {}\n",
        "    for i in range(num_molecules):\n",
        "        isotopic_formula = {atom: [0 for cnt in cnts] for atom, cnts in atom2mass_comp.items()}\n",
        "        for atom, v in mono_isotopic_formula.items():\n",
        "            d = atom2mass_comp[atom]\n",
        "            for j in range(v):\n",
        "                r = random.random()\n",
        "                ind = 0\n",
        "                while d[ind][1] <= r:\n",
        "                    ind += 1\n",
        "                isotopic_formula[atom][ind] += 1\n",
        "\n",
        "        \n",
        "        mass = get_mass_isotopic_formula(isotopic_formula)/charge\n",
        "        # TODO calculate the mass of the obtained isotope formula and do not forget to divide this mass by the charge\n",
        "        if mass in mass2count:\n",
        "            mass2count[mass][0] += 1\n",
        "        else:\n",
        "            mass2count[mass] = [1, isotopic_formula]\n",
        "    return mass2count"
      ],
      "execution_count": 116,
      "outputs": []
    },
    {
      "cell_type": "markdown",
      "metadata": {
        "id": "tbpKlb49_bmP"
      },
      "source": [
        "Let's try to test the written function using the example of a peptide with the sequence *GNVEEQTDALTITHFK* and charge *3+*"
      ]
    },
    {
      "cell_type": "code",
      "metadata": {
        "id": "sea1FMF1ImwB",
        "colab": {
          "base_uri": "https://localhost:8080/"
        },
        "outputId": "093dc673-2bb3-4178-c34a-69390ae86881"
      },
      "source": [
        "seq = \"GNVEEQTDALTITHFK\"\n",
        "charge = 3\n",
        "mass_counts = {k: v[0] for k, v in get_mass_counts(seq, charge).items()}\n",
        "print(\"mono isotopic mass: \" + str(get_mass_mol_formula(get_mol_formula(seq))/charge))\n",
        "for key, value in sorted(mass_counts.items(), key=lambda item: item[1], reverse=True)[:5]:\n",
        "    print(\"%s: %s\" % (key, value))"
      ],
      "execution_count": 117,
      "outputs": [
        {
          "output_type": "stream",
          "name": "stdout",
          "text": [
            "mono isotopic mass: 600.6282141350933\n",
            "600.6282141350933: 3743\n",
            "600.9626657467834: 3073\n",
            "601.2971173584734: 1284\n",
            "601.6315689701634: 356\n",
            "600.96055909991: 310\n"
          ]
        }
      ]
    },
    {
      "cell_type": "markdown",
      "metadata": {
        "id": "3YmSS5EzDa66"
      },
      "source": [
        "That is, the most frequent peptide is the mono isotope variant, but, as you can see, the second most frequent molecule is only slightly behind the mono isotopic variant in frequency. Moreover, we can, by simple calculations, guess about the isotopic composition of such a peptide"
      ]
    },
    {
      "cell_type": "code",
      "metadata": {
        "id": "gzJyrJ9-yxe9",
        "colab": {
          "base_uri": "https://localhost:8080/"
        },
        "outputId": "04a26660-f20e-4e21-a2cb-1f55f27dfd0d"
      },
      "source": [
        "mono_mass = get_mass_mol_formula(get_mol_formula(seq))/charge\n",
        "print((mono_mass*charge-atom2mass_comp['C'][0][0]+atom2mass_comp['C'][1][0])/3)"
      ],
      "execution_count": 149,
      "outputs": [
        {
          "output_type": "stream",
          "name": "stdout",
          "text": [
            "600.9626657467833\n"
          ]
        }
      ]
    },
    {
      "cell_type": "markdown",
      "metadata": {
        "id": "08bigN_OxQun"
      },
      "source": [
        "**Question 1** - in the [google.form](https://forms.gle/qSLAAbsb68sWkaM86)"
      ]
    },
    {
      "cell_type": "code",
      "metadata": {
        "id": "M1S6l4ywjKbc",
        "outputId": "23663cfd-c6db-4120-ef56-232e37f5f913",
        "colab": {
          "base_uri": "https://localhost:8080/"
        }
      },
      "source": [
        "mono_mass = get_mass_mol_formula(get_mol_formula(seq))/charge\n",
        "mass=601.2971173584734\n",
        "min=mass\n",
        "for i in ['C','O','H', 'S','N']:\n",
        "  for j in range(len(atom2mass_comp[i])):  \n",
        "   diff=abs(mass-((mono_mass*charge-atom2mass_comp[i][0][0]+atom2mass_comp[i][j][0])/3))\n",
        "   if diff<min:\n",
        "    min=diff\n",
        "    atom=i\n",
        "    ist=j\n",
        "print (str(atom)+\" isotope \"+ str(ist))\n",
        "\n",
        "\n",
        "\n"
      ],
      "execution_count": 189,
      "outputs": [
        {
          "output_type": "stream",
          "name": "stdout",
          "text": [
            "O isotope 2\n"
          ]
        }
      ]
    },
    {
      "cell_type": "markdown",
      "metadata": {
        "id": "KydSt_6S0W6W"
      },
      "source": [
        "**Question 2** - in the [google.form](https://forms.gle/qSLAAbsb68sWkaM86)"
      ]
    },
    {
      "cell_type": "markdown",
      "metadata": {
        "id": "gtxHQznf2uSj"
      },
      "source": [
        "\n",
        "\n",
        "---\n",
        "\n"
      ]
    },
    {
      "cell_type": "markdown",
      "metadata": {
        "id": "9Ntk6b2TEUqB"
      },
      "source": [
        "The final step is to write some code to visualize the results of our simulations and to make some very interesting observations.\n",
        "\n",
        "For this we need two additional functions.\n",
        "\n",
        "*   ***get_fwhm_sd*** is taking two parameters - mass per charge and resolution - returns the value of the standard deviation of the intensity distribution of the molecule. This formula allows you to link two terms - [FWHM](https://en.wikipedia.org/wiki/Full_width_at_half_maximum) (or half width), which is very much loved by all analytical chemists, and standard deviation. More details can be found [here](https://ned.ipac.caltech.edu/level5/Leo/Stats2_3.html).\n",
        "*   ***f*** pretty encrypted name, isn't it? This function calculates the intensity value on the spectrum plot, going over all the molecules and adding their distributions with a certain mass (average value) and variance (FWHM resolution, which we converted to standard deviation) and also multiplied by the number of generated molecules. Uuuuh!\n",
        "\n"
      ]
    },
    {
      "cell_type": "code",
      "metadata": {
        "id": "0BzcvmmDDXkx"
      },
      "source": [
        "def get_fwhm_sd(mz, resolution):\n",
        "    return mz / (resolution * (2 * (2 * math.log(10)) ** 0.5))\n",
        "\n",
        "def f(x, parameters, resolution):\n",
        "    return sum([v[0] * norm.pdf(x, k, get_fwhm_sd(k, resolution)) for k, v in parameters.items()])"
      ],
      "execution_count": null,
      "outputs": []
    },
    {
      "cell_type": "markdown",
      "metadata": {
        "id": "gIzp7I_1IYQq"
      },
      "source": [
        "Now let's move on to the final stage - building the MS1 spectrum. We will be iteratively improving this feature, which is why I named it\n",
        "***plot_peptide_v1***. "
      ]
    },
    {
      "cell_type": "code",
      "metadata": {
        "id": "ls5n7xFcIe_s"
      },
      "source": [
        "def plot_peptide_v1(seq, charge, resolution, num_molecules=10000):\n",
        "    mass_counts = get_mass_counts(seq, charge, num_molecules)\n",
        "    minx = min(mass_counts.keys()) - 0.5\n",
        "    maxx = max(mass_counts.keys()) + 0.5\n",
        "    x = np.linspace(minx, maxx, 100000)\n",
        "    fig, ax = plt.subplots(len(resolution) + 1, 1, figsize=(8, 3*(len(resolution) + 1)))\n",
        "    for i in range(len(resolution)):\n",
        "        y = f(x, mass_counts, resolution[i])\n",
        "        ax[i].text(0.05, 0.95, str(resolution[i]), transform=ax[i].transAxes, \n",
        "                   fontsize=12, verticalalignment='top')\n",
        "        ax[i].get_yaxis().set_visible(False)\n",
        "        ax[i].plot(x, y)\n",
        "    ax[len(resolution)].set_axis_off()\n",
        "    plt.tight_layout()\n",
        "    plt.show()"
      ],
      "execution_count": null,
      "outputs": []
    },
    {
      "cell_type": "markdown",
      "metadata": {
        "id": "QbeENk4qJzbc"
      },
      "source": [
        "Let's construct MS1 spectrum for peptide *GNVEEQTDALTITHFK* with charge *3+* for different resolutions."
      ]
    },
    {
      "cell_type": "code",
      "metadata": {
        "id": "8J4kD2XnJYVh"
      },
      "source": [
        "seq = \"GNVEEQTDALTITHFK\"\n",
        "charge = 3\n",
        "resolution = [1000, 10000, 100000, 1000000]\n",
        "plot_peptide_v1(seq, charge, resolution)"
      ],
      "execution_count": null,
      "outputs": []
    },
    {
      "cell_type": "markdown",
      "metadata": {
        "id": "je0xtec4KIYZ"
      },
      "source": [
        "Remember I spoke at the lesson about neutron coding (I raised this topic during a conversation about the capabilities of modern mass analyzers to distinguish which isotopes are located in peptides - C13C13 or, say, O18), but in order to see this effect, we must be able to build a plot within a smaller window along the OX axis. Therefore, we will add two additional parameters - *minx* and *maxx*, the minimum and maximum values along the OX axis, respectively."
      ]
    },
    {
      "cell_type": "code",
      "metadata": {
        "id": "NSaxaGIHKHsH"
      },
      "source": [
        "def plot_peptide_v2(seq, charge, resolution, minx=float('nan'), maxx=float('nan'), num_molecules=10000):\n",
        "    mass_counts = get_mass_counts(seq, charge, num_molecules)\n",
        "    if math.isnan(minx) or math.isnan(maxx):\n",
        "        minx = min(mass_counts.keys()) - 0.5\n",
        "        maxx = max(mass_counts.keys()) + 0.5\n",
        "    x = np.linspace(minx, maxx, 100000)\n",
        "    fig, ax = plt.subplots(len(resolution) + 1, 1, figsize=(8, 3*(len(resolution) + 1)))\n",
        "    for i in range(len(resolution)):\n",
        "        y = f(x, mass_counts, resolution[i])\n",
        "        ax[i].text(0.05, 0.95, str(resolution[i]), transform=ax[i].transAxes, fontsize=12,\n",
        "                   verticalalignment='top')\n",
        "        ax[i].get_yaxis().set_visible(False)\n",
        "        ax[i].plot(x, y)        \n",
        "    ax[len(resolution)].set_axis_off()\n",
        "    plt.tight_layout()\n",
        "    plt.show()"
      ],
      "execution_count": null,
      "outputs": []
    },
    {
      "cell_type": "code",
      "metadata": {
        "id": "z7mr6TKlN_Rp"
      },
      "source": [
        "seq = \"GNVEEQTDALTITHFK\"\n",
        "charge = 3\n",
        "resolution = [100000, 1000000]\n",
        "mono_mass = get_mass_mol_formula(get_mol_formula(seq))\n",
        "window = 0.02\n",
        "print(\"Whole isotopic pattern\")\n",
        "plot_peptide_v2(seq, charge, resolution)\n",
        "print(\"Mono isotopic peak\")\n",
        "plot_peptide_v2(seq, charge, resolution, minx=(mono_mass-window+0)/charge, maxx=(mono_mass+window+0)/charge)\n",
        "print(\"Single isotopic peak\")\n",
        "plot_peptide_v2(seq, charge, resolution, minx=(mono_mass-window+1)/charge, maxx=(mono_mass+window+1)/charge)\n",
        "print(\"Double isotopic peak\")\n",
        "plot_peptide_v2(seq, charge, resolution, minx=(mono_mass-window+2)/charge, maxx=(mono_mass+window+2)/charge)\n",
        "print(\"Triple isotopic peak\")\n",
        "plot_peptide_v2(seq, charge, resolution, minx=(mono_mass-window+3)/charge, maxx=(mono_mass+window+3)/charge)"
      ],
      "execution_count": null,
      "outputs": []
    },
    {
      "cell_type": "markdown",
      "metadata": {
        "id": "m4bJODzQQysI"
      },
      "source": [
        "Obviously, at 100k (Orbitrap working resolution), it is impossible to distinguish the neutron coding peaks, but at higher resolutions these peaks become distinguishable.\n",
        "\n",
        "There remains only one problem - how to understand from which isotope a particular peak was obtained? Let's add additional vertical lines to represent the most common molecules."
      ]
    },
    {
      "cell_type": "code",
      "metadata": {
        "id": "PR3EVzi8RatR"
      },
      "source": [
        "def plot_peptide_v3(seq, charge, resolution, minx=float('nan'), maxx=float('nan'), plot_labels=False, num_molecules=10000):\n",
        "    mass_counts = get_mass_counts(seq, charge, num_molecules)\n",
        "    mono_mass = get_mass_mol_formula(get_mol_formula(seq)) / charge\n",
        "    if math.isnan(minx) or math.isnan(maxx):\n",
        "        minx = min(mass_counts.keys()) - 0.5\n",
        "        maxx = max(mass_counts.keys()) + 0.5\n",
        "    x = np.linspace(minx, maxx, 100000)\n",
        "    fig, ax = plt.subplots(len(resolution) + 1, 1, figsize=(8, 3*(len(resolution) + 1)))\n",
        "    for i in range(len(resolution)):\n",
        "        y = f(x, mass_counts, resolution[i])\n",
        "        ax[i].text(0.05, 0.95, str(resolution[i]), transform=ax[i].transAxes, fontsize=12,\n",
        "                   verticalalignment='top')\n",
        "        ax[i].get_yaxis().set_visible(False)\n",
        "        ax[i].plot(x, y)\n",
        "    if plot_labels: # a bit clumsy, sorry\n",
        "        masses = []\n",
        "        values = []\n",
        "        labels = []\n",
        "        if minx <= mono_mass <= maxx:\n",
        "            masses.append(mono_mass)\n",
        "            values.append(float(\"inf\"))\n",
        "            labels.append(\"monoisotopic\")\n",
        "        for k, v in mass_counts.items():\n",
        "            if k < minx or k > maxx or k == mono_mass: continue\n",
        "            l = []\n",
        "            for atom, cnt in v[1].items():\n",
        "                for i in range(1, len(cnt)):\n",
        "                    if cnt[i] == 0: continue\n",
        "                    for j in range(cnt[i]):\n",
        "                        l.append(atom + str(i))\n",
        "            masses.append(k)\n",
        "            values.append(v[0])\n",
        "            labels.append(\";\".join(l))\n",
        "        values, masses, labels = zip(*sorted(zip(values, masses, labels), reverse=True)[:5])\n",
        "        colors = plt.cm.get_cmap(\"hsv\", len(values) + 1)\n",
        "        for i in range(len(masses)):\n",
        "            ax[len(resolution)-1].axvline(x=masses[i], label=labels[i], c=colors(i))\n",
        "        ax[len(resolution)-1].legend()\n",
        "    ax[len(resolution)].set_axis_off()\n",
        "    plt.tight_layout()\n",
        "    plt.show()"
      ],
      "execution_count": null,
      "outputs": []
    },
    {
      "cell_type": "markdown",
      "metadata": {
        "id": "7jyZ9LN7eZGB"
      },
      "source": [
        "We now have all the functionality to learn neutron coding. Let's build a spectrum for peptide *GNVEEQTDALTITHFK* and see the description of the peaks."
      ]
    },
    {
      "cell_type": "code",
      "metadata": {
        "id": "kKkqsMSmRGtq"
      },
      "source": [
        "seq = \"GNVEEQTDALTITHFK\"\n",
        "charge = 3\n",
        "resolution = [100000, 1000000]\n",
        "mono_mass = get_mass_mol_formula(get_mol_formula(seq))\n",
        "window = 0.02\n",
        "print(\"Whole isotopic pattern\")\n",
        "plot_peptide_v3(seq, charge, resolution, plot_labels=True)\n",
        "print(\"Mono isotopic peak\")\n",
        "plot_peptide_v3(seq, charge, resolution, minx=(mono_mass-window+0)/charge, maxx=(mono_mass+window+0)/charge, plot_labels=True)\n",
        "print(\"Single isotopic peak\")\n",
        "plot_peptide_v3(seq, charge, resolution, minx=(mono_mass-window+1)/charge, maxx=(mono_mass+window+1)/charge, plot_labels=True)\n",
        "print(\"Double isotopic peak\")\n",
        "plot_peptide_v3(seq, charge, resolution, minx=(mono_mass-window+2)/charge, maxx=(mono_mass+window+2)/charge, plot_labels=True)\n",
        "print(\"Triple isotopic peak\")\n",
        "plot_peptide_v3(seq, charge, resolution, minx=(mono_mass-window+3)/charge, maxx=(mono_mass+window+3)/charge, plot_labels=True)"
      ],
      "execution_count": null,
      "outputs": []
    },
    {
      "cell_type": "markdown",
      "metadata": {
        "id": "uQTAcD6her1t"
      },
      "source": [
        "In particular, it was this code that was used to plot the 3A graph from [this article](https://www.annualreviews.org/doi/full/10.1146/annurev-biodatasci-080917-013516)."
      ]
    },
    {
      "cell_type": "code",
      "metadata": {
        "id": "D2VXABqKezki"
      },
      "source": [
        "seq = \"GNVEEQTDALTITHFK\"\n",
        "charge = 3\n",
        "resolution = [1000, 100000, 1000000]\n",
        "mono_mass = get_mass_mol_formula(get_mol_formula(seq))\n",
        "window = 0.02\n",
        "print(\"Double isotopic peak\")\n",
        "plot_peptide_v3(seq, charge, resolution, minx=(mono_mass-window+2)/charge, maxx=(mono_mass+window+2)/charge, plot_labels=True)"
      ],
      "execution_count": null,
      "outputs": []
    },
    {
      "cell_type": "markdown",
      "metadata": {
        "id": "owRGKoTqgAGu"
      },
      "source": [
        "**Question 3** - in the [google.form](https://forms.gle/qSLAAbsb68sWkaM86)"
      ]
    },
    {
      "cell_type": "markdown",
      "metadata": {
        "id": "Do3It5Jb34lD"
      },
      "source": [
        "\n",
        "\n",
        "---\n",
        "\n"
      ]
    },
    {
      "cell_type": "markdown",
      "metadata": {
        "id": "BnI5Zz4Ig95b"
      },
      "source": [
        "Top-down proteomics, bypassing the stage of proteins proteolysis into peptides, analyzes proteins directly. Let's try to make a spectrum for a whole protein, for example, for an antibody.\n",
        "\n",
        "By the way, top-down proteomics of antibodies is actively used in pharmaceuticals to the quality-control (QC) of the production of drugs based on them. For example, the medicine [Adalimumab](https://en.wikipedia.org/wiki/Adalimumab) is used to treat a wide range of diseases, including arthritis. The amino acid sequence of this antibody can be found at [link](https://www.drugbank.ca/drugs/DB00051)."
      ]
    },
    {
      "cell_type": "code",
      "metadata": {
        "id": "RMk64TzKiIMc"
      },
      "source": [
        "adalimumab_light_chain = \\\n",
        "    \"DIQMTQSPSSLSASVGDRVTITCRASQGIRNYLAWYQQKPGKAPKLLIYAASTLQSGVPS\" \\\n",
        "    \"RFSGSGSGTDFTLTISSLQPEDVATYYCQRYNRAPYTFGQGTKVEIKRTVAAPSVFIFPP\" \\\n",
        "    \"SDEQLKSGTASVVCLLNNFYPREAKVQWKVDNALQSGNSQESVTEQDSKDSTYSLSSTLT\" \\\n",
        "    \"LSKADYEKHKVYACEVTHQGLSSPVTKSFNRGEC\"\n",
        "\n",
        "adalimumab_heavy_chain = \\\n",
        "    \"EVQLVESGGGLVQPGRSLRLSCAASGFTFDDYAMHWVRQAPGKGLEWVSAITWNSGHIDY\" \\\n",
        "    \"ADSVEGRFTISRDNAKNSLYLQMNSLRAEDTAVYYCAKVSYLSTASSLDYWGQGTLVTVS\" \\\n",
        "    \"SASTKGPSVFPLAPSSKSTSGGTAALGCLVKDYFPEPVTVSWNSGALTSGVHTFPAVLQS\" \\\n",
        "    \"SGLYSLSSVVTVPSSSLGTQTYICNVNHKPSNTKVDKKVEPKSCDKTHTCPPCPAPELLG\" \\\n",
        "    \"GPSVFLFPPKPKDTLMISRTPEVTCVVVDVSHEDPEVKFNWYVDGVEVHNAKTKPREEQY\" \\\n",
        "    \"NSTYRVVSVLTVLHQDWLNGKEYKCKVSNKALPAPIEKTISKAKGQPREPQVYTLPPSRD\" \\\n",
        "    \"ELTKNQVSLTCLVKGFYPSDIAVEWESNGQPENNYKTTPPVLDSDGSFFLYSKLTVDKSR\" \\\n",
        "    \"WQQGNVFSCSVMHEALHNHYTQKSLSLSPGK\"\n",
        "\n",
        "resolution = [50000]\n",
        "\n",
        "plot_peptide_v3(adalimumab_light_chain, 55, resolution, plot_labels=True, num_molecules=1000)\n",
        "# build the same but for several charges\n",
        "plot_peptide_v3(adalimumab_heavy_chain, 69, resolution, plot_labels=True, num_molecules=1000)\n",
        "plot_peptide_v3(adalimumab_heavy_chain, 70, resolution, plot_labels=True, num_molecules=1000)\n",
        "plot_peptide_v3(adalimumab_heavy_chain, 71, resolution, plot_labels=True, num_molecules=1000)\n"
      ],
      "execution_count": null,
      "outputs": []
    },
    {
      "cell_type": "markdown",
      "metadata": {
        "id": "SXheKrze9TAJ"
      },
      "source": [
        "**Question 4** - in the [google.form](https://forms.gle/qSLAAbsb68sWkaM86)"
      ]
    },
    {
      "cell_type": "markdown",
      "metadata": {
        "id": "flT7dx_asLHR"
      },
      "source": [
        "As you can see, the peak of the monoisotopic protein is located far enough from the main distribution, which greatly complicates the task of determining the mass of the initial uncharged protein.\n",
        "\n",
        "In the case of the heavy chain, the specified resolution becomes completely insufficient to separate the isotopic peaks.\n",
        "\n",
        "A large number of modifications (including [disulfide bridges](https://en.wikipedia.org/wiki/Disulfide)), their combinatorics, different charges of proteins, a mixture of several proteins, large cross-sections are all factors that we did not take into account in our model, and this is only the tip of the iceberg of the complexity of Top-down proteomics analysis."
      ]
    }
  ]
}