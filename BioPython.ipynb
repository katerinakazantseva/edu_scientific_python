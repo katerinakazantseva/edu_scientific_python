{
  "nbformat": 4,
  "nbformat_minor": 0,
  "metadata": {
    "colab": {
      "name": "Exercises_all_blank.ipynb",
      "provenance": []
    },
    "kernelspec": {
      "display_name": "Python 3",
      "language": "python",
      "name": "python3"
    },
    "language_info": {
      "codemirror_mode": {
        "name": "ipython",
        "version": 3
      },
      "file_extension": ".py",
      "mimetype": "text/x-python",
      "name": "python",
      "nbconvert_exporter": "python",
      "pygments_lexer": "ipython3",
      "version": "3.7.6"
    }
  },
  "cells": [
    {
      "cell_type": "code",
      "metadata": {
        "colab": {
          "base_uri": "https://localhost:8080/"
        },
        "id": "E0QFIXTtU87a",
        "outputId": "4be84fb6-526e-4ee4-a987-d496ca4dfd13"
      },
      "source": [
        "# 1\n",
        "'''\n",
        "Let's remeber how to use dictionaries.\n",
        "Task: return a dictionary where \n",
        "    * keys are IDs of seqs from an input fasta file (prot.fasta),\n",
        "    * key's values are seqs itself. \n",
        "'''\n",
        "\n",
        "#!pip install Bio\n",
        "\n",
        "\n",
        "from Bio import SeqIO\n",
        "\n",
        "\n",
        "\n",
        "def my_own_fasta_parser(inFile):\n",
        "  sequences = {}\n",
        "  with open(inFile, \"r\") as content:       \n",
        "    for seq_record in SeqIO.parse(content, \"fasta\"):\n",
        "      sequences[seq_record.id]=seq_record.seq\n",
        "    return sequences\n",
        "\n",
        "my_own_fasta_parser(\"prot.fasta\")\n",
        "\n",
        "\n",
        "\n"
      ],
      "execution_count": 29,
      "outputs": [
        {
          "output_type": "execute_result",
          "data": {
            "text/plain": [
              "{'seq0': Seq('FQTWEEFSRAAEKLYLADPMKVRVVLKYRHVDGNLCIKVTDDLVCLVYRTDQAQ...EKF'),\n",
              " 'seq1': Seq('KYRTWEEFTRAAEKLYQADPMKVRVVLKYRHCDGNLCIKVTDDVVCLLYRTDQA...TLM'),\n",
              " 'seq10': Seq('FDSWDEFVSKSVELFRNHPDTTRYVVKYRHCEGKLVLKVTDNHECLKFKTDQAQ...MEK'),\n",
              " 'seq2': Seq('EEYQTWEEFARAAEKLYLTDPMKVRVVLKYRHCDGNLCMKVTDDAVCLQYKTDQ...HGK'),\n",
              " 'seq3': Seq('MYQVWEEFSRAVEKLYLTDPMKVRVVLKYRHCDGNLCIKVTDNSVCLQYKTDQAQDVK'),\n",
              " 'seq4': Seq('EEFSRAVEKLYLTDPMKVRVVLKYRHCDGNLCIKVTDNSVVSYEMRLFGVQKDN...SLL'),\n",
              " 'seq5': Seq('SWEEFAKAAEVLYLEDPMKCRMCTKYRHVDHKLVVKLTDNHTVLKYVTDMAQDV...LMR'),\n",
              " 'seq6': Seq('FTNWEEFAKAAERLHSANPEKCRFVTKYNHTKGELVLKLTDDVVCLQYSTNQLQ...RSI'),\n",
              " 'seq7': Seq('SWEEFVERSVQLFRGDPNATRYVMKYRHCEGKLVLKVTDDRECLKFKTDQAQDA...IFF'),\n",
              " 'seq8': Seq('SWDEFVDRSVQLFRADPESTRYVMKYRHCDGKLVLKVTDNKECLKFKTDQAQEA...TLM'),\n",
              " 'seq9': Seq('KNWEDFEIAAENMYMANPQNCRYTMKYVHSKGHILLKMSDNVKCVQYRAENMPDLKK')}"
            ]
          },
          "metadata": {
            "tags": []
          },
          "execution_count": 29
        }
      ]
    },
    {
      "cell_type": "code",
      "metadata": {
        "id": "vEb1c5WwxMTI"
      },
      "source": [
        ""
      ],
      "execution_count": null,
      "outputs": []
    },
    {
      "cell_type": "code",
      "metadata": {
        "colab": {
          "base_uri": "https://localhost:8080/"
        },
        "id": "P-etjZ_xU87c",
        "outputId": "dc0617c7-bf76-45ab-ca38-84cefb7e313f"
      },
      "source": [
        "# 2\n",
        "'''\n",
        "Another super easy task.\n",
        "\n",
        "We have the same fasta file (prot.fasta).\n",
        "Now we want to get a list with the ids of protein seqs that have \n",
        "a relative frequency higher than a given threshold for a given residue.\n",
        "\n",
        "And don't forget to use my_own_fasta_parser function from a previous task!\n",
        "'''\n",
        "from collections import Counter\n",
        "def my_own_residue_abundance(input_file, residue, threshold=0.2):\n",
        "    \n",
        "    seq_ids = []\n",
        "    sequences = my_own_fasta_parser(input_file)\n",
        "\n",
        "    for seq_id, sequence in sequences.items():\n",
        "      if (Counter(sequence)[residue]/len(sequence)>=threshold):\n",
        "        seq_ids.append(seq_id)\n",
        "    return seq_ids\n",
        "\n",
        "my_own_residue_abundance(\"prot.fasta\", \"N\", 0.1)\n"
      ],
      "execution_count": 26,
      "outputs": [
        {
          "output_type": "execute_result",
          "data": {
            "text/plain": [
              "['seq9']"
            ]
          },
          "metadata": {
            "tags": []
          },
          "execution_count": 26
        }
      ]
    },
    {
      "cell_type": "code",
      "metadata": {
        "colab": {
          "base_uri": "https://localhost:8080/"
        },
        "id": "-9G4I3fvU87d",
        "outputId": "8415954b-b956-4b0c-d1ae-8223256d3faa"
      },
      "source": [
        "# 3\n",
        "'''\n",
        "Let's practice in Bio package using.\n",
        "Task:\n",
        "1. read fasta file containing several DNA seqs (nucl.fasta)\n",
        "2. subset seqs that have GC content > 45 and coding protein with aromaticity > 0.01\n",
        "3. write a new fasta file with those protein(!) seqs\n",
        "4. return the percentage of seqs that passed your filter\n",
        "Hint: Bio.SeqIO, Bio.SeqRecord, Bio.SeqUtils\n",
        "'''\n",
        "\n",
        "from Bio import SeqIO\n",
        "from Bio.SeqUtils.ProtParam import ProteinAnalysis\n",
        "from Bio.SeqUtils import GC\n",
        "from Bio.Seq import Seq\n",
        "from Bio.SeqRecord import SeqRecord\n",
        "\n",
        "\n",
        "def my_own_filtering(input_file, output_file, filt_gc=45, filt_arom=0.125):  \n",
        "    sequences = {}\n",
        "    c = 0   \n",
        "    with open(input_file, \"r\") as content:     \n",
        "        for record in SeqIO.parse(content, \"fasta\"):\n",
        "            c+=1\n",
        "            calc_gc=GC(record.seq)\n",
        "            protein=ProteinAnalysis(str(record.seq.translate()))\n",
        "            calc_arom=protein.aromaticity()\n",
        "            if calc_gc >= filt_gc and calc_arom >= filt_arom:\n",
        "              sequences[record.id]=record.seq\n",
        "    \n",
        "\n",
        "    records = []\n",
        "    for seq_id, seq in sequences.items():\n",
        "        rec = SeqRecord(Seq(seq), id=seq_id, description=\"\")\n",
        "        records.append(rec)\n",
        "    handle = open(output_file,\"w\")\n",
        "    SeqIO.write(records, handle, \"fasta\")\n",
        "    handle.close()\n",
        "    print (len(records)*100/c)\n",
        "\n",
        "\n",
        "my_own_filtering(\"nucl.fasta\",\"output.fasta\")\n"
      ],
      "execution_count": 97,
      "outputs": [
        {
          "output_type": "stream",
          "text": [
            "1\n",
            "14.285714285714286\n"
          ],
          "name": "stdout"
        },
        {
          "output_type": "stream",
          "text": [
            "/usr/local/lib/python3.7/dist-packages/Bio/Seq.py:2983: BiopythonWarning: Partial codon, len(sequence) not a multiple of three. Explicitly trim the sequence or add trailing N before translation. This may become an error in future.\n",
            "  BiopythonWarning,\n"
          ],
          "name": "stderr"
        }
      ]
    },
    {
      "cell_type": "code",
      "metadata": {
        "colab": {
          "base_uri": "https://localhost:8080/",
          "height": 562
        },
        "id": "bPaS6uQH2CIE",
        "outputId": "9a2743ea-ded1-4906-a592-e88262fddc76"
      },
      "source": [
        ""
      ],
      "execution_count": 30,
      "outputs": [
        {
          "output_type": "error",
          "ename": "KeyboardInterrupt",
          "evalue": "ignored",
          "traceback": [
            "\u001b[0;31m---------------------------------------------------------------------------\u001b[0m",
            "\u001b[0;31mKeyboardInterrupt\u001b[0m                         Traceback (most recent call last)",
            "\u001b[0;32m/usr/local/lib/python3.7/dist-packages/ipykernel/kernelbase.py\u001b[0m in \u001b[0;36m_input_request\u001b[0;34m(self, prompt, ident, parent, password)\u001b[0m\n\u001b[1;32m    728\u001b[0m             \u001b[0;32mtry\u001b[0m\u001b[0;34m:\u001b[0m\u001b[0;34m\u001b[0m\u001b[0;34m\u001b[0m\u001b[0m\n\u001b[0;32m--> 729\u001b[0;31m                 \u001b[0mident\u001b[0m\u001b[0;34m,\u001b[0m \u001b[0mreply\u001b[0m \u001b[0;34m=\u001b[0m \u001b[0mself\u001b[0m\u001b[0;34m.\u001b[0m\u001b[0msession\u001b[0m\u001b[0;34m.\u001b[0m\u001b[0mrecv\u001b[0m\u001b[0;34m(\u001b[0m\u001b[0mself\u001b[0m\u001b[0;34m.\u001b[0m\u001b[0mstdin_socket\u001b[0m\u001b[0;34m,\u001b[0m \u001b[0;36m0\u001b[0m\u001b[0;34m)\u001b[0m\u001b[0;34m\u001b[0m\u001b[0;34m\u001b[0m\u001b[0m\n\u001b[0m\u001b[1;32m    730\u001b[0m             \u001b[0;32mexcept\u001b[0m \u001b[0mException\u001b[0m\u001b[0;34m:\u001b[0m\u001b[0;34m\u001b[0m\u001b[0;34m\u001b[0m\u001b[0m\n",
            "\u001b[0;32m/usr/local/lib/python3.7/dist-packages/jupyter_client/session.py\u001b[0m in \u001b[0;36mrecv\u001b[0;34m(self, socket, mode, content, copy)\u001b[0m\n\u001b[1;32m    802\u001b[0m         \u001b[0;32mtry\u001b[0m\u001b[0;34m:\u001b[0m\u001b[0;34m\u001b[0m\u001b[0;34m\u001b[0m\u001b[0m\n\u001b[0;32m--> 803\u001b[0;31m             \u001b[0mmsg_list\u001b[0m \u001b[0;34m=\u001b[0m \u001b[0msocket\u001b[0m\u001b[0;34m.\u001b[0m\u001b[0mrecv_multipart\u001b[0m\u001b[0;34m(\u001b[0m\u001b[0mmode\u001b[0m\u001b[0;34m,\u001b[0m \u001b[0mcopy\u001b[0m\u001b[0;34m=\u001b[0m\u001b[0mcopy\u001b[0m\u001b[0;34m)\u001b[0m\u001b[0;34m\u001b[0m\u001b[0;34m\u001b[0m\u001b[0m\n\u001b[0m\u001b[1;32m    804\u001b[0m         \u001b[0;32mexcept\u001b[0m \u001b[0mzmq\u001b[0m\u001b[0;34m.\u001b[0m\u001b[0mZMQError\u001b[0m \u001b[0;32mas\u001b[0m \u001b[0me\u001b[0m\u001b[0;34m:\u001b[0m\u001b[0;34m\u001b[0m\u001b[0;34m\u001b[0m\u001b[0m\n",
            "\u001b[0;32m/usr/local/lib/python3.7/dist-packages/zmq/sugar/socket.py\u001b[0m in \u001b[0;36mrecv_multipart\u001b[0;34m(self, flags, copy, track)\u001b[0m\n\u001b[1;32m    582\u001b[0m         \"\"\"\n\u001b[0;32m--> 583\u001b[0;31m         \u001b[0mparts\u001b[0m \u001b[0;34m=\u001b[0m \u001b[0;34m[\u001b[0m\u001b[0mself\u001b[0m\u001b[0;34m.\u001b[0m\u001b[0mrecv\u001b[0m\u001b[0;34m(\u001b[0m\u001b[0mflags\u001b[0m\u001b[0;34m,\u001b[0m \u001b[0mcopy\u001b[0m\u001b[0;34m=\u001b[0m\u001b[0mcopy\u001b[0m\u001b[0;34m,\u001b[0m \u001b[0mtrack\u001b[0m\u001b[0;34m=\u001b[0m\u001b[0mtrack\u001b[0m\u001b[0;34m)\u001b[0m\u001b[0;34m]\u001b[0m\u001b[0;34m\u001b[0m\u001b[0;34m\u001b[0m\u001b[0m\n\u001b[0m\u001b[1;32m    584\u001b[0m         \u001b[0;31m# have first part already, only loop while more to receive\u001b[0m\u001b[0;34m\u001b[0m\u001b[0;34m\u001b[0m\u001b[0;34m\u001b[0m\u001b[0m\n",
            "\u001b[0;32mzmq/backend/cython/socket.pyx\u001b[0m in \u001b[0;36mzmq.backend.cython.socket.Socket.recv\u001b[0;34m()\u001b[0m\n",
            "\u001b[0;32mzmq/backend/cython/socket.pyx\u001b[0m in \u001b[0;36mzmq.backend.cython.socket.Socket.recv\u001b[0;34m()\u001b[0m\n",
            "\u001b[0;32mzmq/backend/cython/socket.pyx\u001b[0m in \u001b[0;36mzmq.backend.cython.socket._recv_copy\u001b[0;34m()\u001b[0m\n",
            "\u001b[0;32m/usr/local/lib/python3.7/dist-packages/zmq/backend/cython/checkrc.pxd\u001b[0m in \u001b[0;36mzmq.backend.cython.checkrc._check_rc\u001b[0;34m()\u001b[0m\n",
            "\u001b[0;31mKeyboardInterrupt\u001b[0m: ",
            "\nDuring handling of the above exception, another exception occurred:\n",
            "\u001b[0;31mKeyboardInterrupt\u001b[0m                         Traceback (most recent call last)",
            "\u001b[0;32m<ipython-input-30-d5df0069828e>\u001b[0m in \u001b[0;36m<module>\u001b[0;34m()\u001b[0m\n\u001b[1;32m      1\u001b[0m \u001b[0;32mfrom\u001b[0m \u001b[0mgoogle\u001b[0m\u001b[0;34m.\u001b[0m\u001b[0mcolab\u001b[0m \u001b[0;32mimport\u001b[0m \u001b[0mdrive\u001b[0m\u001b[0;34m\u001b[0m\u001b[0;34m\u001b[0m\u001b[0m\n\u001b[0;32m----> 2\u001b[0;31m \u001b[0mdrive\u001b[0m\u001b[0;34m.\u001b[0m\u001b[0mmount\u001b[0m\u001b[0;34m(\u001b[0m\u001b[0;34m'/content/drive'\u001b[0m\u001b[0;34m)\u001b[0m\u001b[0;34m\u001b[0m\u001b[0;34m\u001b[0m\u001b[0m\n\u001b[0m",
            "\u001b[0;32m/usr/local/lib/python3.7/dist-packages/google/colab/drive.py\u001b[0m in \u001b[0;36mmount\u001b[0;34m(mountpoint, force_remount, timeout_ms, use_metadata_server)\u001b[0m\n\u001b[1;32m    258\u001b[0m       \u001b[0;32mwith\u001b[0m \u001b[0m_output\u001b[0m\u001b[0;34m.\u001b[0m\u001b[0muse_tags\u001b[0m\u001b[0;34m(\u001b[0m\u001b[0;34m'dfs-auth-dance'\u001b[0m\u001b[0;34m)\u001b[0m\u001b[0;34m:\u001b[0m\u001b[0;34m\u001b[0m\u001b[0;34m\u001b[0m\u001b[0m\n\u001b[1;32m    259\u001b[0m         \u001b[0;32mwith\u001b[0m \u001b[0mopen\u001b[0m\u001b[0;34m(\u001b[0m\u001b[0mfifo\u001b[0m\u001b[0;34m,\u001b[0m \u001b[0;34m'w'\u001b[0m\u001b[0;34m)\u001b[0m \u001b[0;32mas\u001b[0m \u001b[0mfifo_file\u001b[0m\u001b[0;34m:\u001b[0m\u001b[0;34m\u001b[0m\u001b[0;34m\u001b[0m\u001b[0m\n\u001b[0;32m--> 260\u001b[0;31m           \u001b[0mfifo_file\u001b[0m\u001b[0;34m.\u001b[0m\u001b[0mwrite\u001b[0m\u001b[0;34m(\u001b[0m\u001b[0mget_code\u001b[0m\u001b[0;34m(\u001b[0m\u001b[0mauth_prompt\u001b[0m\u001b[0;34m)\u001b[0m \u001b[0;34m+\u001b[0m \u001b[0;34m'\\n'\u001b[0m\u001b[0;34m)\u001b[0m\u001b[0;34m\u001b[0m\u001b[0;34m\u001b[0m\u001b[0m\n\u001b[0m\u001b[1;32m    261\u001b[0m       \u001b[0mwrote_to_fifo\u001b[0m \u001b[0;34m=\u001b[0m \u001b[0;32mTrue\u001b[0m\u001b[0;34m\u001b[0m\u001b[0;34m\u001b[0m\u001b[0m\n\u001b[1;32m    262\u001b[0m     \u001b[0;32melif\u001b[0m \u001b[0mcase\u001b[0m \u001b[0;34m==\u001b[0m \u001b[0;36m5\u001b[0m\u001b[0;34m:\u001b[0m\u001b[0;34m\u001b[0m\u001b[0;34m\u001b[0m\u001b[0m\n",
            "\u001b[0;32m/usr/local/lib/python3.7/dist-packages/ipykernel/kernelbase.py\u001b[0m in \u001b[0;36mraw_input\u001b[0;34m(self, prompt)\u001b[0m\n\u001b[1;32m    702\u001b[0m             \u001b[0mself\u001b[0m\u001b[0;34m.\u001b[0m\u001b[0m_parent_ident\u001b[0m\u001b[0;34m,\u001b[0m\u001b[0;34m\u001b[0m\u001b[0;34m\u001b[0m\u001b[0m\n\u001b[1;32m    703\u001b[0m             \u001b[0mself\u001b[0m\u001b[0;34m.\u001b[0m\u001b[0m_parent_header\u001b[0m\u001b[0;34m,\u001b[0m\u001b[0;34m\u001b[0m\u001b[0;34m\u001b[0m\u001b[0m\n\u001b[0;32m--> 704\u001b[0;31m             \u001b[0mpassword\u001b[0m\u001b[0;34m=\u001b[0m\u001b[0;32mFalse\u001b[0m\u001b[0;34m,\u001b[0m\u001b[0;34m\u001b[0m\u001b[0;34m\u001b[0m\u001b[0m\n\u001b[0m\u001b[1;32m    705\u001b[0m         )\n\u001b[1;32m    706\u001b[0m \u001b[0;34m\u001b[0m\u001b[0m\n",
            "\u001b[0;32m/usr/local/lib/python3.7/dist-packages/ipykernel/kernelbase.py\u001b[0m in \u001b[0;36m_input_request\u001b[0;34m(self, prompt, ident, parent, password)\u001b[0m\n\u001b[1;32m    732\u001b[0m             \u001b[0;32mexcept\u001b[0m \u001b[0mKeyboardInterrupt\u001b[0m\u001b[0;34m:\u001b[0m\u001b[0;34m\u001b[0m\u001b[0;34m\u001b[0m\u001b[0m\n\u001b[1;32m    733\u001b[0m                 \u001b[0;31m# re-raise KeyboardInterrupt, to truncate traceback\u001b[0m\u001b[0;34m\u001b[0m\u001b[0;34m\u001b[0m\u001b[0;34m\u001b[0m\u001b[0m\n\u001b[0;32m--> 734\u001b[0;31m                 \u001b[0;32mraise\u001b[0m \u001b[0mKeyboardInterrupt\u001b[0m\u001b[0;34m\u001b[0m\u001b[0;34m\u001b[0m\u001b[0m\n\u001b[0m\u001b[1;32m    735\u001b[0m             \u001b[0;32melse\u001b[0m\u001b[0;34m:\u001b[0m\u001b[0;34m\u001b[0m\u001b[0;34m\u001b[0m\u001b[0m\n\u001b[1;32m    736\u001b[0m                 \u001b[0;32mbreak\u001b[0m\u001b[0;34m\u001b[0m\u001b[0;34m\u001b[0m\u001b[0m\n",
            "\u001b[0;31mKeyboardInterrupt\u001b[0m: "
          ]
        }
      ]
    },
    {
      "cell_type": "code",
      "metadata": {
        "colab": {
          "base_uri": "https://localhost:8080/"
        },
        "id": "lZpHeYRUU87e",
        "outputId": "35134002-2ec0-40d0-f633-fc4974c54f2d"
      },
      "source": [
        "# 4\n",
        "\"\"\"\n",
        "Continue practicing in Bio package using:\n",
        "Task:\n",
        "complete the following code that should be able to return \n",
        "the best alignment of two amino acid seqs (pairwise2.align.globalds)\n",
        "based on BLOSUM62 matrix from Bio.SubsMat.MatrixInfo.\n",
        "http://rosalind.info/glossary/blosum62/\n",
        "\"\"\"\n",
        "\n",
        "from Bio.Align import Applications\n",
        "from Bio import pairwise2\n",
        "from Bio.SubsMat import MatrixInfo as matlist\n",
        "from Bio.pairwise2 import format_alignment\n",
        "\n",
        "\n",
        "def balign(first_seq, second_seq, gap_open, gap_extend):\n",
        "\n",
        "    matrix = matlist.blosum62\n",
        "\n",
        "    alns = pairwise2.align.globalds(\"ACCGT\", \"ACG\",matrix,gap_open, gap_extend)\n",
        "\n",
        "    top_aln =format_alignment(*alns[0])\n",
        "\n",
        "    print(top_aln)\n",
        "\n",
        "\n",
        "balign(\"ACCTAGC\", \"ACC\", -1, -1)"
      ],
      "execution_count": 90,
      "outputs": [
        {
          "output_type": "stream",
          "text": [
            "ACCGT\n",
            "| || \n",
            "A-CG-\n",
            "  Score=17\n",
            "\n"
          ],
          "name": "stdout"
        }
      ]
    },
    {
      "cell_type": "code",
      "metadata": {
        "colab": {
          "base_uri": "https://localhost:8080/"
        },
        "id": "9Vo0KZtxU87e",
        "outputId": "624c07bb-7fe8-4b1d-d5be-33408e30a3a1"
      },
      "source": [
        "# 5\n",
        "\"\"\" You have some DNA sequence: AGTACTAGAGCATTCTATGGAG.\n",
        "Find out which peptides could be created from it and sort them by their length.\n",
        "Use as much Biopython modules as possible.\n",
        "\"\"\"\n",
        "\n",
        "import Bio\n",
        "from Bio.Seq import Seq\n",
        "\n",
        "\n",
        "def proteins(seq):\n",
        "  proteins = []\n",
        "  seqRC = seq.reverse_complement()\n",
        "  proteins.append(str(seq.translate(to_stop = True)))\n",
        "  proteins.append(str(seqRC.translate(to_stop = True)))\n",
        "  return(sorted(proteins, key=len))\n",
        "\n",
        "seq=Seq(\"AGTACTAGAGCATTCTATGGAG\")\n",
        "proteins(seq)\n"
      ],
      "execution_count": 117,
      "outputs": [
        {
          "output_type": "stream",
          "text": [
            "/usr/local/lib/python3.7/dist-packages/Bio/Seq.py:2983: BiopythonWarning: Partial codon, len(sequence) not a multiple of three. Explicitly trim the sequence or add trailing N before translation. This may become an error in future.\n",
            "  BiopythonWarning,\n"
          ],
          "name": "stderr"
        },
        {
          "output_type": "execute_result",
          "data": {
            "text/plain": [
              "['LHRML', 'STRAFYG']"
            ]
          },
          "metadata": {
            "tags": []
          },
          "execution_count": 117
        }
      ]
    },
    {
      "cell_type": "code",
      "metadata": {
        "id": "P4vzebpfU87f",
        "colab": {
          "base_uri": "https://localhost:8080/"
        },
        "outputId": "280b1568-bdb3-458d-d36f-1039521ec9af"
      },
      "source": [
        "# 6\n",
        "\"\"\" TASK: Try to create one-line function (without (!!!) using Bio package) \n",
        "that returns reverse complementary to a given sequence. \n",
        "Hint: using dictionaty & list comprehensions might be helpful.\n",
        "\"\"\"\n",
        "\n",
        "def rev_compl_one_line(seq):\n",
        "    return ''.join([{'A': 'T', 'C': 'G', 'G': 'C', 'T': 'A'}[base] for base in seq[::-1]])\n",
        "\n",
        "seq= Seq(\"AGTACACTGGT\")\n",
        "\n",
        "\n",
        "print(rev_compl_one_line(seq))\n",
        "\n",
        "#from Bio.Seq import Seq\n",
        "#print(seq.reverse_complement())\n"
      ],
      "execution_count": 77,
      "outputs": [
        {
          "output_type": "stream",
          "text": [
            "ACCAGTGTACT\n",
            "ACCAGTGTACT\n"
          ],
          "name": "stdout"
        }
      ]
    }
  ]
}